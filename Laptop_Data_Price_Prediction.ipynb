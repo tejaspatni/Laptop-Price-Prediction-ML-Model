{
  "nbformat": 4,
  "nbformat_minor": 0,
  "metadata": {
    "colab": {
      "provenance": [],
      "collapsed_sections": [
        "7hBIi_osiCS2",
        "JlHwYmJAmNHm",
        "PoPl-ycgm1ru",
        "u3PMJOP6ngxN"
      ]
    },
    "kernelspec": {
      "name": "python3",
      "display_name": "Python 3"
    },
    "language_info": {
      "name": "python"
    },
    "gpuClass": "standard"
  },
  "cells": [
    {
      "cell_type": "markdown",
      "source": [
        "## ***1. Know Your Data***"
      ],
      "metadata": {
        "id": "HhfV-JJviCcP"
      }
    },
    {
      "cell_type": "markdown",
      "source": [
        "### Import Libraries"
      ],
      "metadata": {
        "id": "Y3lxredqlCYt"
      }
    },
    {
      "cell_type": "code",
      "source": [
        "# Import Libraries\n",
        "import pandas as pd\n",
        "import numpy as np\n",
        "import matplotlib.pyplot as plt\n",
        "import seaborn as sns\n",
        "import re\n",
        "\n",
        "from sklearn.preprocessing import LabelEncoder\n",
        "from sklearn.model_selection import train_test_split\n",
        "from sklearn.compose import ColumnTransformer\n",
        "from sklearn.pipeline import Pipeline\n",
        "from sklearn.preprocessing import OneHotEncoder\n",
        "from sklearn.metrics import r2_score,mean_absolute_error\n",
        "from sklearn.linear_model import LinearRegression,Ridge,Lasso\n",
        "from sklearn.model_selection import GridSearchCV\n",
        "from sklearn.neighbors import KNeighborsRegressor\n",
        "from sklearn.tree import DecisionTreeRegressor\n",
        "from sklearn.ensemble import RandomForestRegressor,GradientBoostingRegressor,AdaBoostRegressor,ExtraTreesRegressor\n",
        "from sklearn.svm import SVR\n",
        "from xgboost import XGBRegressor"
      ],
      "metadata": {
        "id": "M8Vqi-pPk-HR"
      },
      "execution_count": 177,
      "outputs": []
    },
    {
      "cell_type": "markdown",
      "source": [
        "### Dataset Loading"
      ],
      "metadata": {
        "id": "3RnN4peoiCZX"
      }
    },
    {
      "cell_type": "code",
      "source": [
        "from google.colab import drive\n",
        "drive.mount('/content/drive')"
      ],
      "metadata": {
        "id": "vRqGNxYV3Axm",
        "colab": {
          "base_uri": "https://localhost:8080/"
        },
        "outputId": "b81843b5-1510-4bf7-b590-c4d36459e3c9"
      },
      "execution_count": 178,
      "outputs": [
        {
          "output_type": "stream",
          "name": "stdout",
          "text": [
            "Drive already mounted at /content/drive; to attempt to forcibly remount, call drive.mount(\"/content/drive\", force_remount=True).\n"
          ]
        }
      ]
    },
    {
      "cell_type": "code",
      "source": [
        "# Load Dataset\n",
        "raw_data = pd.read_csv('/content/drive/MyDrive/Colab Notebooks/Innomatics research Labs/laptop_details.csv')"
      ],
      "metadata": {
        "id": "4CkvbW_SlZ_R"
      },
      "execution_count": 179,
      "outputs": []
    },
    {
      "cell_type": "markdown",
      "source": [
        "### Dataset First View"
      ],
      "metadata": {
        "id": "x71ZqKXriCWQ"
      }
    },
    {
      "cell_type": "code",
      "source": [
        "# Dataset First Look\n",
        "raw_data.head()"
      ],
      "metadata": {
        "id": "LWNFOSvLl09H",
        "colab": {
          "base_uri": "https://localhost:8080/",
          "height": 206
        },
        "outputId": "11828304-e7ae-47d4-e807-af8c2144811a"
      },
      "execution_count": 180,
      "outputs": [
        {
          "output_type": "execute_result",
          "data": {
            "text/plain": [
              "                                             Product  Rating      MRP  \\\n",
              "0  Lenovo IdeaPad 3 Core i3 11th Gen - (8 GB/256 ...     4.2  ₹36,990   \n",
              "1  Lenovo IdeaPad 3 Core i3 11th Gen - (8 GB/512 ...     4.2  ₹39,990   \n",
              "2  ASUS VivoBook 15 (2022) Core i3 10th Gen - (8 ...     4.3  ₹32,990   \n",
              "3  HP Pavilion Ryzen 5 Hexa Core AMD R5-5600H - (...     4.4  ₹49,990   \n",
              "4  ASUS TUF Gaming F15 Core i5 10th Gen - (8 GB/5...     4.4  ₹49,990   \n",
              "\n",
              "                                             Feature  \n",
              "0  Intel Core i3 Processor (11th Gen)8 GB DDR4 RA...  \n",
              "1  Intel Core i3 Processor (11th Gen)8 GB DDR4 RA...  \n",
              "2  Intel Core i3 Processor (10th Gen)8 GB DDR4 RA...  \n",
              "3  AMD Ryzen 5 Hexa Core Processor8 GB DDR4 RAM64...  \n",
              "4  Intel Core i5 Processor (10th Gen)8 GB DDR4 RA...  "
            ],
            "text/html": [
              "\n",
              "  <div id=\"df-71ce3531-8cf3-4322-88b1-50aae9f3e35b\">\n",
              "    <div class=\"colab-df-container\">\n",
              "      <div>\n",
              "<style scoped>\n",
              "    .dataframe tbody tr th:only-of-type {\n",
              "        vertical-align: middle;\n",
              "    }\n",
              "\n",
              "    .dataframe tbody tr th {\n",
              "        vertical-align: top;\n",
              "    }\n",
              "\n",
              "    .dataframe thead th {\n",
              "        text-align: right;\n",
              "    }\n",
              "</style>\n",
              "<table border=\"1\" class=\"dataframe\">\n",
              "  <thead>\n",
              "    <tr style=\"text-align: right;\">\n",
              "      <th></th>\n",
              "      <th>Product</th>\n",
              "      <th>Rating</th>\n",
              "      <th>MRP</th>\n",
              "      <th>Feature</th>\n",
              "    </tr>\n",
              "  </thead>\n",
              "  <tbody>\n",
              "    <tr>\n",
              "      <th>0</th>\n",
              "      <td>Lenovo IdeaPad 3 Core i3 11th Gen - (8 GB/256 ...</td>\n",
              "      <td>4.2</td>\n",
              "      <td>₹36,990</td>\n",
              "      <td>Intel Core i3 Processor (11th Gen)8 GB DDR4 RA...</td>\n",
              "    </tr>\n",
              "    <tr>\n",
              "      <th>1</th>\n",
              "      <td>Lenovo IdeaPad 3 Core i3 11th Gen - (8 GB/512 ...</td>\n",
              "      <td>4.2</td>\n",
              "      <td>₹39,990</td>\n",
              "      <td>Intel Core i3 Processor (11th Gen)8 GB DDR4 RA...</td>\n",
              "    </tr>\n",
              "    <tr>\n",
              "      <th>2</th>\n",
              "      <td>ASUS VivoBook 15 (2022) Core i3 10th Gen - (8 ...</td>\n",
              "      <td>4.3</td>\n",
              "      <td>₹32,990</td>\n",
              "      <td>Intel Core i3 Processor (10th Gen)8 GB DDR4 RA...</td>\n",
              "    </tr>\n",
              "    <tr>\n",
              "      <th>3</th>\n",
              "      <td>HP Pavilion Ryzen 5 Hexa Core AMD R5-5600H - (...</td>\n",
              "      <td>4.4</td>\n",
              "      <td>₹49,990</td>\n",
              "      <td>AMD Ryzen 5 Hexa Core Processor8 GB DDR4 RAM64...</td>\n",
              "    </tr>\n",
              "    <tr>\n",
              "      <th>4</th>\n",
              "      <td>ASUS TUF Gaming F15 Core i5 10th Gen - (8 GB/5...</td>\n",
              "      <td>4.4</td>\n",
              "      <td>₹49,990</td>\n",
              "      <td>Intel Core i5 Processor (10th Gen)8 GB DDR4 RA...</td>\n",
              "    </tr>\n",
              "  </tbody>\n",
              "</table>\n",
              "</div>\n",
              "      <button class=\"colab-df-convert\" onclick=\"convertToInteractive('df-71ce3531-8cf3-4322-88b1-50aae9f3e35b')\"\n",
              "              title=\"Convert this dataframe to an interactive table.\"\n",
              "              style=\"display:none;\">\n",
              "        \n",
              "  <svg xmlns=\"http://www.w3.org/2000/svg\" height=\"24px\"viewBox=\"0 0 24 24\"\n",
              "       width=\"24px\">\n",
              "    <path d=\"M0 0h24v24H0V0z\" fill=\"none\"/>\n",
              "    <path d=\"M18.56 5.44l.94 2.06.94-2.06 2.06-.94-2.06-.94-.94-2.06-.94 2.06-2.06.94zm-11 1L8.5 8.5l.94-2.06 2.06-.94-2.06-.94L8.5 2.5l-.94 2.06-2.06.94zm10 10l.94 2.06.94-2.06 2.06-.94-2.06-.94-.94-2.06-.94 2.06-2.06.94z\"/><path d=\"M17.41 7.96l-1.37-1.37c-.4-.4-.92-.59-1.43-.59-.52 0-1.04.2-1.43.59L10.3 9.45l-7.72 7.72c-.78.78-.78 2.05 0 2.83L4 21.41c.39.39.9.59 1.41.59.51 0 1.02-.2 1.41-.59l7.78-7.78 2.81-2.81c.8-.78.8-2.07 0-2.86zM5.41 20L4 18.59l7.72-7.72 1.47 1.35L5.41 20z\"/>\n",
              "  </svg>\n",
              "      </button>\n",
              "      \n",
              "  <style>\n",
              "    .colab-df-container {\n",
              "      display:flex;\n",
              "      flex-wrap:wrap;\n",
              "      gap: 12px;\n",
              "    }\n",
              "\n",
              "    .colab-df-convert {\n",
              "      background-color: #E8F0FE;\n",
              "      border: none;\n",
              "      border-radius: 50%;\n",
              "      cursor: pointer;\n",
              "      display: none;\n",
              "      fill: #1967D2;\n",
              "      height: 32px;\n",
              "      padding: 0 0 0 0;\n",
              "      width: 32px;\n",
              "    }\n",
              "\n",
              "    .colab-df-convert:hover {\n",
              "      background-color: #E2EBFA;\n",
              "      box-shadow: 0px 1px 2px rgba(60, 64, 67, 0.3), 0px 1px 3px 1px rgba(60, 64, 67, 0.15);\n",
              "      fill: #174EA6;\n",
              "    }\n",
              "\n",
              "    [theme=dark] .colab-df-convert {\n",
              "      background-color: #3B4455;\n",
              "      fill: #D2E3FC;\n",
              "    }\n",
              "\n",
              "    [theme=dark] .colab-df-convert:hover {\n",
              "      background-color: #434B5C;\n",
              "      box-shadow: 0px 1px 3px 1px rgba(0, 0, 0, 0.15);\n",
              "      filter: drop-shadow(0px 1px 2px rgba(0, 0, 0, 0.3));\n",
              "      fill: #FFFFFF;\n",
              "    }\n",
              "  </style>\n",
              "\n",
              "      <script>\n",
              "        const buttonEl =\n",
              "          document.querySelector('#df-71ce3531-8cf3-4322-88b1-50aae9f3e35b button.colab-df-convert');\n",
              "        buttonEl.style.display =\n",
              "          google.colab.kernel.accessAllowed ? 'block' : 'none';\n",
              "\n",
              "        async function convertToInteractive(key) {\n",
              "          const element = document.querySelector('#df-71ce3531-8cf3-4322-88b1-50aae9f3e35b');\n",
              "          const dataTable =\n",
              "            await google.colab.kernel.invokeFunction('convertToInteractive',\n",
              "                                                     [key], {});\n",
              "          if (!dataTable) return;\n",
              "\n",
              "          const docLinkHtml = 'Like what you see? Visit the ' +\n",
              "            '<a target=\"_blank\" href=https://colab.research.google.com/notebooks/data_table.ipynb>data table notebook</a>'\n",
              "            + ' to learn more about interactive tables.';\n",
              "          element.innerHTML = '';\n",
              "          dataTable['output_type'] = 'display_data';\n",
              "          await google.colab.output.renderOutput(dataTable, element);\n",
              "          const docLink = document.createElement('div');\n",
              "          docLink.innerHTML = docLinkHtml;\n",
              "          element.appendChild(docLink);\n",
              "        }\n",
              "      </script>\n",
              "    </div>\n",
              "  </div>\n",
              "  "
            ]
          },
          "metadata": {},
          "execution_count": 180
        }
      ]
    },
    {
      "cell_type": "markdown",
      "source": [
        "### Dataset Rows & Columns count"
      ],
      "metadata": {
        "id": "7hBIi_osiCS2"
      }
    },
    {
      "cell_type": "code",
      "source": [
        "# Dataset Rows & Columns count\n",
        "raw_data.shape"
      ],
      "metadata": {
        "id": "Kllu7SJgmLij",
        "colab": {
          "base_uri": "https://localhost:8080/"
        },
        "outputId": "e9cc747f-ac9f-463c-8497-9ebcc9cf01a5"
      },
      "execution_count": 181,
      "outputs": [
        {
          "output_type": "execute_result",
          "data": {
            "text/plain": [
              "(720, 4)"
            ]
          },
          "metadata": {},
          "execution_count": 181
        }
      ]
    },
    {
      "cell_type": "markdown",
      "source": [
        "### Dataset Information"
      ],
      "metadata": {
        "id": "JlHwYmJAmNHm"
      }
    },
    {
      "cell_type": "code",
      "source": [
        "# Dataset Info\n",
        "raw_data.info()"
      ],
      "metadata": {
        "id": "e9hRXRi6meOf",
        "colab": {
          "base_uri": "https://localhost:8080/"
        },
        "outputId": "d0169be2-83cc-4eb0-ee5d-084574c0ed7a"
      },
      "execution_count": 182,
      "outputs": [
        {
          "output_type": "stream",
          "name": "stdout",
          "text": [
            "<class 'pandas.core.frame.DataFrame'>\n",
            "RangeIndex: 720 entries, 0 to 719\n",
            "Data columns (total 4 columns):\n",
            " #   Column   Non-Null Count  Dtype  \n",
            "---  ------   --------------  -----  \n",
            " 0   Product  720 non-null    object \n",
            " 1   Rating   581 non-null    float64\n",
            " 2   MRP      720 non-null    object \n",
            " 3   Feature  720 non-null    object \n",
            "dtypes: float64(1), object(3)\n",
            "memory usage: 22.6+ KB\n"
          ]
        }
      ]
    },
    {
      "cell_type": "markdown",
      "source": [
        "#### Missing Values/Null Values"
      ],
      "metadata": {
        "id": "PoPl-ycgm1ru"
      }
    },
    {
      "cell_type": "code",
      "source": [
        "# Missing Values/Null Values Count\n",
        "raw_data.isnull().sum()"
      ],
      "metadata": {
        "id": "GgHWkxvamxVg",
        "colab": {
          "base_uri": "https://localhost:8080/"
        },
        "outputId": "468ad194-8635-412f-ba21-adc318f70479"
      },
      "execution_count": 183,
      "outputs": [
        {
          "output_type": "execute_result",
          "data": {
            "text/plain": [
              "Product      0\n",
              "Rating     139\n",
              "MRP          0\n",
              "Feature      0\n",
              "dtype: int64"
            ]
          },
          "metadata": {},
          "execution_count": 183
        }
      ]
    },
    {
      "cell_type": "markdown",
      "source": [
        "## ***2. Understanding Your Variables***"
      ],
      "metadata": {
        "id": "nA9Y7ga8ng1Z"
      }
    },
    {
      "cell_type": "code",
      "source": [
        "# Dataset Columns\n",
        "raw_data.columns"
      ],
      "metadata": {
        "id": "j7xfkqrt5Ag5",
        "colab": {
          "base_uri": "https://localhost:8080/"
        },
        "outputId": "7daeabab-770e-44f0-8439-c8f9d7b267b2"
      },
      "execution_count": 184,
      "outputs": [
        {
          "output_type": "execute_result",
          "data": {
            "text/plain": [
              "Index(['Product', 'Rating', 'MRP', 'Feature'], dtype='object')"
            ]
          },
          "metadata": {},
          "execution_count": 184
        }
      ]
    },
    {
      "cell_type": "code",
      "source": [
        "# Dataset Describe\n",
        "raw_data.describe(include='all')"
      ],
      "metadata": {
        "id": "DnOaZdaE5Q5t",
        "colab": {
          "base_uri": "https://localhost:8080/",
          "height": 394
        },
        "outputId": "29693a6e-ebb1-4ff7-b0aa-78bd3512a257"
      },
      "execution_count": 185,
      "outputs": [
        {
          "output_type": "execute_result",
          "data": {
            "text/plain": [
              "                                                  Product      Rating  \\\n",
              "count                                                 720  581.000000   \n",
              "unique                                                410         NaN   \n",
              "top     ASUS ROG Strix G15 (2022) with 90Whr Battery R...         NaN   \n",
              "freq                                                   31         NaN   \n",
              "mean                                                  NaN    4.321170   \n",
              "std                                                   NaN    0.282872   \n",
              "min                                                   NaN    3.000000   \n",
              "25%                                                   NaN    4.200000   \n",
              "50%                                                   NaN    4.300000   \n",
              "75%                                                   NaN    4.500000   \n",
              "max                                                   NaN    5.000000   \n",
              "\n",
              "            MRP                                            Feature  \n",
              "count       720                                                720  \n",
              "unique      251                                                394  \n",
              "top     ₹39,990  AMD Ryzen 9 Octa Core Processor16 GB DDR5 RAMW...  \n",
              "freq         61                                                 30  \n",
              "mean        NaN                                                NaN  \n",
              "std         NaN                                                NaN  \n",
              "min         NaN                                                NaN  \n",
              "25%         NaN                                                NaN  \n",
              "50%         NaN                                                NaN  \n",
              "75%         NaN                                                NaN  \n",
              "max         NaN                                                NaN  "
            ],
            "text/html": [
              "\n",
              "  <div id=\"df-884fb3d5-1631-4816-b97c-fb90d35fb2e5\">\n",
              "    <div class=\"colab-df-container\">\n",
              "      <div>\n",
              "<style scoped>\n",
              "    .dataframe tbody tr th:only-of-type {\n",
              "        vertical-align: middle;\n",
              "    }\n",
              "\n",
              "    .dataframe tbody tr th {\n",
              "        vertical-align: top;\n",
              "    }\n",
              "\n",
              "    .dataframe thead th {\n",
              "        text-align: right;\n",
              "    }\n",
              "</style>\n",
              "<table border=\"1\" class=\"dataframe\">\n",
              "  <thead>\n",
              "    <tr style=\"text-align: right;\">\n",
              "      <th></th>\n",
              "      <th>Product</th>\n",
              "      <th>Rating</th>\n",
              "      <th>MRP</th>\n",
              "      <th>Feature</th>\n",
              "    </tr>\n",
              "  </thead>\n",
              "  <tbody>\n",
              "    <tr>\n",
              "      <th>count</th>\n",
              "      <td>720</td>\n",
              "      <td>581.000000</td>\n",
              "      <td>720</td>\n",
              "      <td>720</td>\n",
              "    </tr>\n",
              "    <tr>\n",
              "      <th>unique</th>\n",
              "      <td>410</td>\n",
              "      <td>NaN</td>\n",
              "      <td>251</td>\n",
              "      <td>394</td>\n",
              "    </tr>\n",
              "    <tr>\n",
              "      <th>top</th>\n",
              "      <td>ASUS ROG Strix G15 (2022) with 90Whr Battery R...</td>\n",
              "      <td>NaN</td>\n",
              "      <td>₹39,990</td>\n",
              "      <td>AMD Ryzen 9 Octa Core Processor16 GB DDR5 RAMW...</td>\n",
              "    </tr>\n",
              "    <tr>\n",
              "      <th>freq</th>\n",
              "      <td>31</td>\n",
              "      <td>NaN</td>\n",
              "      <td>61</td>\n",
              "      <td>30</td>\n",
              "    </tr>\n",
              "    <tr>\n",
              "      <th>mean</th>\n",
              "      <td>NaN</td>\n",
              "      <td>4.321170</td>\n",
              "      <td>NaN</td>\n",
              "      <td>NaN</td>\n",
              "    </tr>\n",
              "    <tr>\n",
              "      <th>std</th>\n",
              "      <td>NaN</td>\n",
              "      <td>0.282872</td>\n",
              "      <td>NaN</td>\n",
              "      <td>NaN</td>\n",
              "    </tr>\n",
              "    <tr>\n",
              "      <th>min</th>\n",
              "      <td>NaN</td>\n",
              "      <td>3.000000</td>\n",
              "      <td>NaN</td>\n",
              "      <td>NaN</td>\n",
              "    </tr>\n",
              "    <tr>\n",
              "      <th>25%</th>\n",
              "      <td>NaN</td>\n",
              "      <td>4.200000</td>\n",
              "      <td>NaN</td>\n",
              "      <td>NaN</td>\n",
              "    </tr>\n",
              "    <tr>\n",
              "      <th>50%</th>\n",
              "      <td>NaN</td>\n",
              "      <td>4.300000</td>\n",
              "      <td>NaN</td>\n",
              "      <td>NaN</td>\n",
              "    </tr>\n",
              "    <tr>\n",
              "      <th>75%</th>\n",
              "      <td>NaN</td>\n",
              "      <td>4.500000</td>\n",
              "      <td>NaN</td>\n",
              "      <td>NaN</td>\n",
              "    </tr>\n",
              "    <tr>\n",
              "      <th>max</th>\n",
              "      <td>NaN</td>\n",
              "      <td>5.000000</td>\n",
              "      <td>NaN</td>\n",
              "      <td>NaN</td>\n",
              "    </tr>\n",
              "  </tbody>\n",
              "</table>\n",
              "</div>\n",
              "      <button class=\"colab-df-convert\" onclick=\"convertToInteractive('df-884fb3d5-1631-4816-b97c-fb90d35fb2e5')\"\n",
              "              title=\"Convert this dataframe to an interactive table.\"\n",
              "              style=\"display:none;\">\n",
              "        \n",
              "  <svg xmlns=\"http://www.w3.org/2000/svg\" height=\"24px\"viewBox=\"0 0 24 24\"\n",
              "       width=\"24px\">\n",
              "    <path d=\"M0 0h24v24H0V0z\" fill=\"none\"/>\n",
              "    <path d=\"M18.56 5.44l.94 2.06.94-2.06 2.06-.94-2.06-.94-.94-2.06-.94 2.06-2.06.94zm-11 1L8.5 8.5l.94-2.06 2.06-.94-2.06-.94L8.5 2.5l-.94 2.06-2.06.94zm10 10l.94 2.06.94-2.06 2.06-.94-2.06-.94-.94-2.06-.94 2.06-2.06.94z\"/><path d=\"M17.41 7.96l-1.37-1.37c-.4-.4-.92-.59-1.43-.59-.52 0-1.04.2-1.43.59L10.3 9.45l-7.72 7.72c-.78.78-.78 2.05 0 2.83L4 21.41c.39.39.9.59 1.41.59.51 0 1.02-.2 1.41-.59l7.78-7.78 2.81-2.81c.8-.78.8-2.07 0-2.86zM5.41 20L4 18.59l7.72-7.72 1.47 1.35L5.41 20z\"/>\n",
              "  </svg>\n",
              "      </button>\n",
              "      \n",
              "  <style>\n",
              "    .colab-df-container {\n",
              "      display:flex;\n",
              "      flex-wrap:wrap;\n",
              "      gap: 12px;\n",
              "    }\n",
              "\n",
              "    .colab-df-convert {\n",
              "      background-color: #E8F0FE;\n",
              "      border: none;\n",
              "      border-radius: 50%;\n",
              "      cursor: pointer;\n",
              "      display: none;\n",
              "      fill: #1967D2;\n",
              "      height: 32px;\n",
              "      padding: 0 0 0 0;\n",
              "      width: 32px;\n",
              "    }\n",
              "\n",
              "    .colab-df-convert:hover {\n",
              "      background-color: #E2EBFA;\n",
              "      box-shadow: 0px 1px 2px rgba(60, 64, 67, 0.3), 0px 1px 3px 1px rgba(60, 64, 67, 0.15);\n",
              "      fill: #174EA6;\n",
              "    }\n",
              "\n",
              "    [theme=dark] .colab-df-convert {\n",
              "      background-color: #3B4455;\n",
              "      fill: #D2E3FC;\n",
              "    }\n",
              "\n",
              "    [theme=dark] .colab-df-convert:hover {\n",
              "      background-color: #434B5C;\n",
              "      box-shadow: 0px 1px 3px 1px rgba(0, 0, 0, 0.15);\n",
              "      filter: drop-shadow(0px 1px 2px rgba(0, 0, 0, 0.3));\n",
              "      fill: #FFFFFF;\n",
              "    }\n",
              "  </style>\n",
              "\n",
              "      <script>\n",
              "        const buttonEl =\n",
              "          document.querySelector('#df-884fb3d5-1631-4816-b97c-fb90d35fb2e5 button.colab-df-convert');\n",
              "        buttonEl.style.display =\n",
              "          google.colab.kernel.accessAllowed ? 'block' : 'none';\n",
              "\n",
              "        async function convertToInteractive(key) {\n",
              "          const element = document.querySelector('#df-884fb3d5-1631-4816-b97c-fb90d35fb2e5');\n",
              "          const dataTable =\n",
              "            await google.colab.kernel.invokeFunction('convertToInteractive',\n",
              "                                                     [key], {});\n",
              "          if (!dataTable) return;\n",
              "\n",
              "          const docLinkHtml = 'Like what you see? Visit the ' +\n",
              "            '<a target=\"_blank\" href=https://colab.research.google.com/notebooks/data_table.ipynb>data table notebook</a>'\n",
              "            + ' to learn more about interactive tables.';\n",
              "          element.innerHTML = '';\n",
              "          dataTable['output_type'] = 'display_data';\n",
              "          await google.colab.output.renderOutput(dataTable, element);\n",
              "          const docLink = document.createElement('div');\n",
              "          docLink.innerHTML = docLinkHtml;\n",
              "          element.appendChild(docLink);\n",
              "        }\n",
              "      </script>\n",
              "    </div>\n",
              "  </div>\n",
              "  "
            ]
          },
          "metadata": {},
          "execution_count": 185
        }
      ]
    },
    {
      "cell_type": "markdown",
      "source": [
        "### Check Unique Values for each variable."
      ],
      "metadata": {
        "id": "u3PMJOP6ngxN"
      }
    },
    {
      "cell_type": "code",
      "source": [
        "# Check Unique Values for each variable.\n",
        "raw_data.nunique()"
      ],
      "metadata": {
        "id": "zms12Yq5n-jE",
        "colab": {
          "base_uri": "https://localhost:8080/"
        },
        "outputId": "796a08e6-c12c-4db9-9af5-c30c600874c1"
      },
      "execution_count": 186,
      "outputs": [
        {
          "output_type": "execute_result",
          "data": {
            "text/plain": [
              "Product    410\n",
              "Rating      18\n",
              "MRP        251\n",
              "Feature    394\n",
              "dtype: int64"
            ]
          },
          "metadata": {},
          "execution_count": 186
        }
      ]
    },
    {
      "cell_type": "markdown",
      "source": [
        "## 3. ***Data Wrangling***"
      ],
      "metadata": {
        "id": "dauF4eBmngu3"
      }
    },
    {
      "cell_type": "markdown",
      "source": [
        "### Data Wrangling Code"
      ],
      "metadata": {
        "id": "bKJF3rekwFvQ"
      }
    },
    {
      "cell_type": "code",
      "source": [
        "df = raw_data.copy()"
      ],
      "metadata": {
        "id": "-Q2wsZLMBWHe"
      },
      "execution_count": 187,
      "outputs": []
    },
    {
      "cell_type": "code",
      "source": [
        "# Write your code to make your dataset analysis ready.\n",
        "# Processor Information\n",
        "\n",
        "regex = r'(?:AMD|Intel|M\\d|Qualcomm)[\\s\\w]+Processor'\n",
        "\n",
        "df['Processor'] = df['Feature'].apply(lambda x : re.findall(regex, x))"
      ],
      "metadata": {
        "id": "wk-9a2fpoLcV"
      },
      "execution_count": 188,
      "outputs": []
    },
    {
      "cell_type": "code",
      "source": [
        "regex = r'\\d+\\sGB[\\s\\w]+RAM'\n",
        "\n",
        "df['RAM'] = df['Feature'].apply(lambda x : re.findall(regex, x))"
      ],
      "metadata": {
        "id": "HHParvGlBgjK"
      },
      "execution_count": 189,
      "outputs": []
    },
    {
      "cell_type": "code",
      "source": [
        "# OS \n",
        "regex = r'\\d{1,2} bit Windows \\d{1,2} Operating System|Windows \\d{1,2} Operating System|Chrome Operating System|Mac OS Operating System|\\d{1,2} bit DOS Operating System|DOS Operating System'\n",
        "# regex = r'(?:\\d+ bit )?Windows \\d+ Operating System'\n",
        "\n",
        "df['OS'] = df['Feature'].apply(lambda x : re.findall(regex, x))"
      ],
      "metadata": {
        "id": "2beO1biiBzSd"
      },
      "execution_count": 190,
      "outputs": []
    },
    {
      "cell_type": "code",
      "source": [
        "# Storage\n",
        "\n",
        "regex = r'\\d+\\s?(?:GB|TB)\\s(?:SSD|HDD|EMMC Storage)'\n",
        "\n",
        "df['Storage'] = df['Product'].apply(lambda x : re.findall(regex, x))"
      ],
      "metadata": {
        "id": "Z5RsfQHKB6Z_"
      },
      "execution_count": 191,
      "outputs": []
    },
    {
      "cell_type": "code",
      "source": [
        "# Brand\n",
        "\n",
        "regex = r'^\\w+'\n",
        "\n",
        "df['Brand'] = df['Product'].apply(lambda x : re.findall(regex, x))"
      ],
      "metadata": {
        "id": "-vxGh8uUCgxq"
      },
      "execution_count": 192,
      "outputs": []
    },
    {
      "cell_type": "code",
      "source": [
        "#size /Display\n",
        "\n",
        "# regex = r'\\((\\d{2}\\.?\\d?\\d?(?:\\s|-)*[iI]nch)\\)'\n",
        "regex = r'\\d+(?:\\.\\d+)?\\s?(?:[iI]nch|inches)'\n",
        "df['Display'] = df['Feature'].apply(lambda x : re.findall(regex, x))"
      ],
      "metadata": {
        "id": "Vlk0zwMEDsCi"
      },
      "execution_count": 193,
      "outputs": []
    },
    {
      "cell_type": "code",
      "source": [
        "df.info()"
      ],
      "metadata": {
        "id": "aDoV-2GxCiGn",
        "colab": {
          "base_uri": "https://localhost:8080/"
        },
        "outputId": "8bea691c-6f80-44f2-82cc-dfca6775a406"
      },
      "execution_count": 194,
      "outputs": [
        {
          "output_type": "stream",
          "name": "stdout",
          "text": [
            "<class 'pandas.core.frame.DataFrame'>\n",
            "RangeIndex: 720 entries, 0 to 719\n",
            "Data columns (total 10 columns):\n",
            " #   Column     Non-Null Count  Dtype  \n",
            "---  ------     --------------  -----  \n",
            " 0   Product    720 non-null    object \n",
            " 1   Rating     581 non-null    float64\n",
            " 2   MRP        720 non-null    object \n",
            " 3   Feature    720 non-null    object \n",
            " 4   Processor  720 non-null    object \n",
            " 5   RAM        720 non-null    object \n",
            " 6   OS         720 non-null    object \n",
            " 7   Storage    720 non-null    object \n",
            " 8   Brand      720 non-null    object \n",
            " 9   Display    720 non-null    object \n",
            "dtypes: float64(1), object(9)\n",
            "memory usage: 56.4+ KB\n"
          ]
        }
      ]
    },
    {
      "cell_type": "code",
      "source": [
        "df.head()"
      ],
      "metadata": {
        "colab": {
          "base_uri": "https://localhost:8080/",
          "height": 337
        },
        "id": "hnfnmIEnR9t3",
        "outputId": "175282c7-29b1-43b0-80c1-718374502b94"
      },
      "execution_count": 195,
      "outputs": [
        {
          "output_type": "execute_result",
          "data": {
            "text/plain": [
              "                                             Product  Rating      MRP  \\\n",
              "0  Lenovo IdeaPad 3 Core i3 11th Gen - (8 GB/256 ...     4.2  ₹36,990   \n",
              "1  Lenovo IdeaPad 3 Core i3 11th Gen - (8 GB/512 ...     4.2  ₹39,990   \n",
              "2  ASUS VivoBook 15 (2022) Core i3 10th Gen - (8 ...     4.3  ₹32,990   \n",
              "3  HP Pavilion Ryzen 5 Hexa Core AMD R5-5600H - (...     4.4  ₹49,990   \n",
              "4  ASUS TUF Gaming F15 Core i5 10th Gen - (8 GB/5...     4.4  ₹49,990   \n",
              "\n",
              "                                             Feature  \\\n",
              "0  Intel Core i3 Processor (11th Gen)8 GB DDR4 RA...   \n",
              "1  Intel Core i3 Processor (11th Gen)8 GB DDR4 RA...   \n",
              "2  Intel Core i3 Processor (10th Gen)8 GB DDR4 RA...   \n",
              "3  AMD Ryzen 5 Hexa Core Processor8 GB DDR4 RAM64...   \n",
              "4  Intel Core i5 Processor (10th Gen)8 GB DDR4 RA...   \n",
              "\n",
              "                           Processor              RAM  \\\n",
              "0          [Intel Core i3 Processor]  [8 GB DDR4 RAM]   \n",
              "1          [Intel Core i3 Processor]  [8 GB DDR4 RAM]   \n",
              "2          [Intel Core i3 Processor]  [8 GB DDR4 RAM]   \n",
              "3  [AMD Ryzen 5 Hexa Core Processor]  [8 GB DDR4 RAM]   \n",
              "4          [Intel Core i5 Processor]  [8 GB DDR4 RAM]   \n",
              "\n",
              "                                     OS       Storage     Brand      Display  \n",
              "0  [64 bit Windows 11 Operating System]  [256 GB SSD]  [Lenovo]    [14 inch]  \n",
              "1  [64 bit Windows 11 Operating System]  [512 GB SSD]  [Lenovo]  [15.6 inch]  \n",
              "2  [64 bit Windows 11 Operating System]  [512 GB SSD]    [ASUS]  [15.6 inch]  \n",
              "3  [64 bit Windows 10 Operating System]  [512 GB SSD]      [HP]  [15.6 inch]  \n",
              "4         [Windows 11 Operating System]  [512 GB SSD]    [ASUS]  [15.6 inch]  "
            ],
            "text/html": [
              "\n",
              "  <div id=\"df-5a2cac1a-2edc-4c34-9520-8fae9ca78c3a\">\n",
              "    <div class=\"colab-df-container\">\n",
              "      <div>\n",
              "<style scoped>\n",
              "    .dataframe tbody tr th:only-of-type {\n",
              "        vertical-align: middle;\n",
              "    }\n",
              "\n",
              "    .dataframe tbody tr th {\n",
              "        vertical-align: top;\n",
              "    }\n",
              "\n",
              "    .dataframe thead th {\n",
              "        text-align: right;\n",
              "    }\n",
              "</style>\n",
              "<table border=\"1\" class=\"dataframe\">\n",
              "  <thead>\n",
              "    <tr style=\"text-align: right;\">\n",
              "      <th></th>\n",
              "      <th>Product</th>\n",
              "      <th>Rating</th>\n",
              "      <th>MRP</th>\n",
              "      <th>Feature</th>\n",
              "      <th>Processor</th>\n",
              "      <th>RAM</th>\n",
              "      <th>OS</th>\n",
              "      <th>Storage</th>\n",
              "      <th>Brand</th>\n",
              "      <th>Display</th>\n",
              "    </tr>\n",
              "  </thead>\n",
              "  <tbody>\n",
              "    <tr>\n",
              "      <th>0</th>\n",
              "      <td>Lenovo IdeaPad 3 Core i3 11th Gen - (8 GB/256 ...</td>\n",
              "      <td>4.2</td>\n",
              "      <td>₹36,990</td>\n",
              "      <td>Intel Core i3 Processor (11th Gen)8 GB DDR4 RA...</td>\n",
              "      <td>[Intel Core i3 Processor]</td>\n",
              "      <td>[8 GB DDR4 RAM]</td>\n",
              "      <td>[64 bit Windows 11 Operating System]</td>\n",
              "      <td>[256 GB SSD]</td>\n",
              "      <td>[Lenovo]</td>\n",
              "      <td>[14 inch]</td>\n",
              "    </tr>\n",
              "    <tr>\n",
              "      <th>1</th>\n",
              "      <td>Lenovo IdeaPad 3 Core i3 11th Gen - (8 GB/512 ...</td>\n",
              "      <td>4.2</td>\n",
              "      <td>₹39,990</td>\n",
              "      <td>Intel Core i3 Processor (11th Gen)8 GB DDR4 RA...</td>\n",
              "      <td>[Intel Core i3 Processor]</td>\n",
              "      <td>[8 GB DDR4 RAM]</td>\n",
              "      <td>[64 bit Windows 11 Operating System]</td>\n",
              "      <td>[512 GB SSD]</td>\n",
              "      <td>[Lenovo]</td>\n",
              "      <td>[15.6 inch]</td>\n",
              "    </tr>\n",
              "    <tr>\n",
              "      <th>2</th>\n",
              "      <td>ASUS VivoBook 15 (2022) Core i3 10th Gen - (8 ...</td>\n",
              "      <td>4.3</td>\n",
              "      <td>₹32,990</td>\n",
              "      <td>Intel Core i3 Processor (10th Gen)8 GB DDR4 RA...</td>\n",
              "      <td>[Intel Core i3 Processor]</td>\n",
              "      <td>[8 GB DDR4 RAM]</td>\n",
              "      <td>[64 bit Windows 11 Operating System]</td>\n",
              "      <td>[512 GB SSD]</td>\n",
              "      <td>[ASUS]</td>\n",
              "      <td>[15.6 inch]</td>\n",
              "    </tr>\n",
              "    <tr>\n",
              "      <th>3</th>\n",
              "      <td>HP Pavilion Ryzen 5 Hexa Core AMD R5-5600H - (...</td>\n",
              "      <td>4.4</td>\n",
              "      <td>₹49,990</td>\n",
              "      <td>AMD Ryzen 5 Hexa Core Processor8 GB DDR4 RAM64...</td>\n",
              "      <td>[AMD Ryzen 5 Hexa Core Processor]</td>\n",
              "      <td>[8 GB DDR4 RAM]</td>\n",
              "      <td>[64 bit Windows 10 Operating System]</td>\n",
              "      <td>[512 GB SSD]</td>\n",
              "      <td>[HP]</td>\n",
              "      <td>[15.6 inch]</td>\n",
              "    </tr>\n",
              "    <tr>\n",
              "      <th>4</th>\n",
              "      <td>ASUS TUF Gaming F15 Core i5 10th Gen - (8 GB/5...</td>\n",
              "      <td>4.4</td>\n",
              "      <td>₹49,990</td>\n",
              "      <td>Intel Core i5 Processor (10th Gen)8 GB DDR4 RA...</td>\n",
              "      <td>[Intel Core i5 Processor]</td>\n",
              "      <td>[8 GB DDR4 RAM]</td>\n",
              "      <td>[Windows 11 Operating System]</td>\n",
              "      <td>[512 GB SSD]</td>\n",
              "      <td>[ASUS]</td>\n",
              "      <td>[15.6 inch]</td>\n",
              "    </tr>\n",
              "  </tbody>\n",
              "</table>\n",
              "</div>\n",
              "      <button class=\"colab-df-convert\" onclick=\"convertToInteractive('df-5a2cac1a-2edc-4c34-9520-8fae9ca78c3a')\"\n",
              "              title=\"Convert this dataframe to an interactive table.\"\n",
              "              style=\"display:none;\">\n",
              "        \n",
              "  <svg xmlns=\"http://www.w3.org/2000/svg\" height=\"24px\"viewBox=\"0 0 24 24\"\n",
              "       width=\"24px\">\n",
              "    <path d=\"M0 0h24v24H0V0z\" fill=\"none\"/>\n",
              "    <path d=\"M18.56 5.44l.94 2.06.94-2.06 2.06-.94-2.06-.94-.94-2.06-.94 2.06-2.06.94zm-11 1L8.5 8.5l.94-2.06 2.06-.94-2.06-.94L8.5 2.5l-.94 2.06-2.06.94zm10 10l.94 2.06.94-2.06 2.06-.94-2.06-.94-.94-2.06-.94 2.06-2.06.94z\"/><path d=\"M17.41 7.96l-1.37-1.37c-.4-.4-.92-.59-1.43-.59-.52 0-1.04.2-1.43.59L10.3 9.45l-7.72 7.72c-.78.78-.78 2.05 0 2.83L4 21.41c.39.39.9.59 1.41.59.51 0 1.02-.2 1.41-.59l7.78-7.78 2.81-2.81c.8-.78.8-2.07 0-2.86zM5.41 20L4 18.59l7.72-7.72 1.47 1.35L5.41 20z\"/>\n",
              "  </svg>\n",
              "      </button>\n",
              "      \n",
              "  <style>\n",
              "    .colab-df-container {\n",
              "      display:flex;\n",
              "      flex-wrap:wrap;\n",
              "      gap: 12px;\n",
              "    }\n",
              "\n",
              "    .colab-df-convert {\n",
              "      background-color: #E8F0FE;\n",
              "      border: none;\n",
              "      border-radius: 50%;\n",
              "      cursor: pointer;\n",
              "      display: none;\n",
              "      fill: #1967D2;\n",
              "      height: 32px;\n",
              "      padding: 0 0 0 0;\n",
              "      width: 32px;\n",
              "    }\n",
              "\n",
              "    .colab-df-convert:hover {\n",
              "      background-color: #E2EBFA;\n",
              "      box-shadow: 0px 1px 2px rgba(60, 64, 67, 0.3), 0px 1px 3px 1px rgba(60, 64, 67, 0.15);\n",
              "      fill: #174EA6;\n",
              "    }\n",
              "\n",
              "    [theme=dark] .colab-df-convert {\n",
              "      background-color: #3B4455;\n",
              "      fill: #D2E3FC;\n",
              "    }\n",
              "\n",
              "    [theme=dark] .colab-df-convert:hover {\n",
              "      background-color: #434B5C;\n",
              "      box-shadow: 0px 1px 3px 1px rgba(0, 0, 0, 0.15);\n",
              "      filter: drop-shadow(0px 1px 2px rgba(0, 0, 0, 0.3));\n",
              "      fill: #FFFFFF;\n",
              "    }\n",
              "  </style>\n",
              "\n",
              "      <script>\n",
              "        const buttonEl =\n",
              "          document.querySelector('#df-5a2cac1a-2edc-4c34-9520-8fae9ca78c3a button.colab-df-convert');\n",
              "        buttonEl.style.display =\n",
              "          google.colab.kernel.accessAllowed ? 'block' : 'none';\n",
              "\n",
              "        async function convertToInteractive(key) {\n",
              "          const element = document.querySelector('#df-5a2cac1a-2edc-4c34-9520-8fae9ca78c3a');\n",
              "          const dataTable =\n",
              "            await google.colab.kernel.invokeFunction('convertToInteractive',\n",
              "                                                     [key], {});\n",
              "          if (!dataTable) return;\n",
              "\n",
              "          const docLinkHtml = 'Like what you see? Visit the ' +\n",
              "            '<a target=\"_blank\" href=https://colab.research.google.com/notebooks/data_table.ipynb>data table notebook</a>'\n",
              "            + ' to learn more about interactive tables.';\n",
              "          element.innerHTML = '';\n",
              "          dataTable['output_type'] = 'display_data';\n",
              "          await google.colab.output.renderOutput(dataTable, element);\n",
              "          const docLink = document.createElement('div');\n",
              "          docLink.innerHTML = docLinkHtml;\n",
              "          element.appendChild(docLink);\n",
              "        }\n",
              "      </script>\n",
              "    </div>\n",
              "  </div>\n",
              "  "
            ]
          },
          "metadata": {},
          "execution_count": 195
        }
      ]
    },
    {
      "cell_type": "code",
      "source": [
        "df.Processor = df.Processor.apply(lambda x : ''.join(x))\n",
        "df.RAM = df.RAM.apply(lambda x : ''.join(x))\n",
        "df.OS = df.OS.apply(lambda x : ''.join(x))\n",
        "df.Storage = df.Storage.apply(lambda x : ''.join(x))\n",
        "df.Brand = df.Brand.apply(lambda x : ''.join(x))\n",
        "df.Display = df.Display.apply(lambda x : ''.join(x))"
      ],
      "metadata": {
        "id": "IHVQQwHiCgtk"
      },
      "execution_count": 196,
      "outputs": []
    },
    {
      "cell_type": "code",
      "source": [
        "df.MRP = df.MRP.apply(lambda x : x.replace('₹', '').replace(',', '')).astype(float)"
      ],
      "metadata": {
        "id": "nKty59K0PhJD"
      },
      "execution_count": 197,
      "outputs": []
    },
    {
      "cell_type": "code",
      "source": [
        "df.nunique()"
      ],
      "metadata": {
        "id": "riFhMg_5PTyl",
        "colab": {
          "base_uri": "https://localhost:8080/"
        },
        "outputId": "a5cd2b68-189a-4ba5-c687-c6cc73eea601"
      },
      "execution_count": 198,
      "outputs": [
        {
          "output_type": "execute_result",
          "data": {
            "text/plain": [
              "Product      410\n",
              "Rating        18\n",
              "MRP          251\n",
              "Feature      394\n",
              "Processor     26\n",
              "RAM           19\n",
              "OS            10\n",
              "Storage       13\n",
              "Brand         16\n",
              "Display       28\n",
              "dtype: int64"
            ]
          },
          "metadata": {},
          "execution_count": 198
        }
      ]
    },
    {
      "cell_type": "code",
      "source": [
        "df.describe()"
      ],
      "metadata": {
        "id": "FWvmkonIPTtr",
        "colab": {
          "base_uri": "https://localhost:8080/",
          "height": 300
        },
        "outputId": "e8b319df-6e79-42d5-db5e-fde8623fdd95"
      },
      "execution_count": 199,
      "outputs": [
        {
          "output_type": "execute_result",
          "data": {
            "text/plain": [
              "           Rating            MRP\n",
              "count  581.000000     720.000000\n",
              "mean     4.321170   81605.837500\n",
              "std      0.282872   61552.955102\n",
              "min      3.000000   14990.000000\n",
              "25%      4.200000   38996.750000\n",
              "50%      4.300000   59990.000000\n",
              "75%      4.500000   95240.000000\n",
              "max      5.000000  434830.000000"
            ],
            "text/html": [
              "\n",
              "  <div id=\"df-231631d2-ff89-4697-b3f8-afb14e807981\">\n",
              "    <div class=\"colab-df-container\">\n",
              "      <div>\n",
              "<style scoped>\n",
              "    .dataframe tbody tr th:only-of-type {\n",
              "        vertical-align: middle;\n",
              "    }\n",
              "\n",
              "    .dataframe tbody tr th {\n",
              "        vertical-align: top;\n",
              "    }\n",
              "\n",
              "    .dataframe thead th {\n",
              "        text-align: right;\n",
              "    }\n",
              "</style>\n",
              "<table border=\"1\" class=\"dataframe\">\n",
              "  <thead>\n",
              "    <tr style=\"text-align: right;\">\n",
              "      <th></th>\n",
              "      <th>Rating</th>\n",
              "      <th>MRP</th>\n",
              "    </tr>\n",
              "  </thead>\n",
              "  <tbody>\n",
              "    <tr>\n",
              "      <th>count</th>\n",
              "      <td>581.000000</td>\n",
              "      <td>720.000000</td>\n",
              "    </tr>\n",
              "    <tr>\n",
              "      <th>mean</th>\n",
              "      <td>4.321170</td>\n",
              "      <td>81605.837500</td>\n",
              "    </tr>\n",
              "    <tr>\n",
              "      <th>std</th>\n",
              "      <td>0.282872</td>\n",
              "      <td>61552.955102</td>\n",
              "    </tr>\n",
              "    <tr>\n",
              "      <th>min</th>\n",
              "      <td>3.000000</td>\n",
              "      <td>14990.000000</td>\n",
              "    </tr>\n",
              "    <tr>\n",
              "      <th>25%</th>\n",
              "      <td>4.200000</td>\n",
              "      <td>38996.750000</td>\n",
              "    </tr>\n",
              "    <tr>\n",
              "      <th>50%</th>\n",
              "      <td>4.300000</td>\n",
              "      <td>59990.000000</td>\n",
              "    </tr>\n",
              "    <tr>\n",
              "      <th>75%</th>\n",
              "      <td>4.500000</td>\n",
              "      <td>95240.000000</td>\n",
              "    </tr>\n",
              "    <tr>\n",
              "      <th>max</th>\n",
              "      <td>5.000000</td>\n",
              "      <td>434830.000000</td>\n",
              "    </tr>\n",
              "  </tbody>\n",
              "</table>\n",
              "</div>\n",
              "      <button class=\"colab-df-convert\" onclick=\"convertToInteractive('df-231631d2-ff89-4697-b3f8-afb14e807981')\"\n",
              "              title=\"Convert this dataframe to an interactive table.\"\n",
              "              style=\"display:none;\">\n",
              "        \n",
              "  <svg xmlns=\"http://www.w3.org/2000/svg\" height=\"24px\"viewBox=\"0 0 24 24\"\n",
              "       width=\"24px\">\n",
              "    <path d=\"M0 0h24v24H0V0z\" fill=\"none\"/>\n",
              "    <path d=\"M18.56 5.44l.94 2.06.94-2.06 2.06-.94-2.06-.94-.94-2.06-.94 2.06-2.06.94zm-11 1L8.5 8.5l.94-2.06 2.06-.94-2.06-.94L8.5 2.5l-.94 2.06-2.06.94zm10 10l.94 2.06.94-2.06 2.06-.94-2.06-.94-.94-2.06-.94 2.06-2.06.94z\"/><path d=\"M17.41 7.96l-1.37-1.37c-.4-.4-.92-.59-1.43-.59-.52 0-1.04.2-1.43.59L10.3 9.45l-7.72 7.72c-.78.78-.78 2.05 0 2.83L4 21.41c.39.39.9.59 1.41.59.51 0 1.02-.2 1.41-.59l7.78-7.78 2.81-2.81c.8-.78.8-2.07 0-2.86zM5.41 20L4 18.59l7.72-7.72 1.47 1.35L5.41 20z\"/>\n",
              "  </svg>\n",
              "      </button>\n",
              "      \n",
              "  <style>\n",
              "    .colab-df-container {\n",
              "      display:flex;\n",
              "      flex-wrap:wrap;\n",
              "      gap: 12px;\n",
              "    }\n",
              "\n",
              "    .colab-df-convert {\n",
              "      background-color: #E8F0FE;\n",
              "      border: none;\n",
              "      border-radius: 50%;\n",
              "      cursor: pointer;\n",
              "      display: none;\n",
              "      fill: #1967D2;\n",
              "      height: 32px;\n",
              "      padding: 0 0 0 0;\n",
              "      width: 32px;\n",
              "    }\n",
              "\n",
              "    .colab-df-convert:hover {\n",
              "      background-color: #E2EBFA;\n",
              "      box-shadow: 0px 1px 2px rgba(60, 64, 67, 0.3), 0px 1px 3px 1px rgba(60, 64, 67, 0.15);\n",
              "      fill: #174EA6;\n",
              "    }\n",
              "\n",
              "    [theme=dark] .colab-df-convert {\n",
              "      background-color: #3B4455;\n",
              "      fill: #D2E3FC;\n",
              "    }\n",
              "\n",
              "    [theme=dark] .colab-df-convert:hover {\n",
              "      background-color: #434B5C;\n",
              "      box-shadow: 0px 1px 3px 1px rgba(0, 0, 0, 0.15);\n",
              "      filter: drop-shadow(0px 1px 2px rgba(0, 0, 0, 0.3));\n",
              "      fill: #FFFFFF;\n",
              "    }\n",
              "  </style>\n",
              "\n",
              "      <script>\n",
              "        const buttonEl =\n",
              "          document.querySelector('#df-231631d2-ff89-4697-b3f8-afb14e807981 button.colab-df-convert');\n",
              "        buttonEl.style.display =\n",
              "          google.colab.kernel.accessAllowed ? 'block' : 'none';\n",
              "\n",
              "        async function convertToInteractive(key) {\n",
              "          const element = document.querySelector('#df-231631d2-ff89-4697-b3f8-afb14e807981');\n",
              "          const dataTable =\n",
              "            await google.colab.kernel.invokeFunction('convertToInteractive',\n",
              "                                                     [key], {});\n",
              "          if (!dataTable) return;\n",
              "\n",
              "          const docLinkHtml = 'Like what you see? Visit the ' +\n",
              "            '<a target=\"_blank\" href=https://colab.research.google.com/notebooks/data_table.ipynb>data table notebook</a>'\n",
              "            + ' to learn more about interactive tables.';\n",
              "          element.innerHTML = '';\n",
              "          dataTable['output_type'] = 'display_data';\n",
              "          await google.colab.output.renderOutput(dataTable, element);\n",
              "          const docLink = document.createElement('div');\n",
              "          docLink.innerHTML = docLinkHtml;\n",
              "          element.appendChild(docLink);\n",
              "        }\n",
              "      </script>\n",
              "    </div>\n",
              "  </div>\n",
              "  "
            ]
          },
          "metadata": {},
          "execution_count": 199
        }
      ]
    },
    {
      "cell_type": "code",
      "source": [
        "df['Processor'] = df['Processor'].replace({'Intel Evo Core i5 ProcessorIntel Core i5 Processor':'Intel Core i5 Processor','Intel OptaneIntel Core i3 Processor':'Intel Core i3 Processor'})"
      ],
      "metadata": {
        "id": "H_8dShqPkI0r"
      },
      "execution_count": 200,
      "outputs": []
    },
    {
      "cell_type": "code",
      "source": [
        "df['Display'] = df['Display'].replace({'11.6 Inch':'11.6 inch','15.6 Inch':'15.6 inch','14 Inch':'14 inch','13.3 Inch':'13.3 inch','16 Inch':'16 inch','16.1 Inch':'16.1 inch','17.3 Inch':'17.3 inch','15.6 inch15.6 inch':'15.6 inch','14 inch14 inch':'14 inch','':'14 inch','206015.6 inch15.6 inch':'15.6 inch'})"
      ],
      "metadata": {
        "id": "98dGYBYscBxg"
      },
      "execution_count": 201,
      "outputs": []
    },
    {
      "cell_type": "code",
      "source": [
        "df['OS'] = df['OS'].replace({'Windows 10 Operating System64 bit Windows 10 Operating System':'64 bit Windows 10 Operating System','Windows 10 Operating System':'64 bit Windows 10 Operating System','Windows 11 Operating System':'64 bit Windows 11 Operating System'})"
      ],
      "metadata": {
        "id": "F1j-rDECWVcT"
      },
      "execution_count": 202,
      "outputs": []
    },
    {
      "cell_type": "code",
      "source": [
        "df['Touchscreen'] = df['Feature'].str.contains('Touchscreen')\n",
        "df['Touchscreen'] = df['Touchscreen'].replace({True:'Yes', False:'No'})"
      ],
      "metadata": {
        "id": "0S0j1Za13oAC"
      },
      "execution_count": 203,
      "outputs": []
    },
    {
      "cell_type": "code",
      "source": [
        "df"
      ],
      "metadata": {
        "id": "9lb12Wme4ML5",
        "colab": {
          "base_uri": "https://localhost:8080/",
          "height": 763
        },
        "outputId": "821e9f10-c3a9-4cce-a225-5077e18af793"
      },
      "execution_count": 204,
      "outputs": [
        {
          "output_type": "execute_result",
          "data": {
            "text/plain": [
              "                                               Product  Rating       MRP  \\\n",
              "0    Lenovo IdeaPad 3 Core i3 11th Gen - (8 GB/256 ...     4.2   36990.0   \n",
              "1    Lenovo IdeaPad 3 Core i3 11th Gen - (8 GB/512 ...     4.2   39990.0   \n",
              "2    ASUS VivoBook 15 (2022) Core i3 10th Gen - (8 ...     4.3   32990.0   \n",
              "3    HP Pavilion Ryzen 5 Hexa Core AMD R5-5600H - (...     4.4   49990.0   \n",
              "4    ASUS TUF Gaming F15 Core i5 10th Gen - (8 GB/5...     4.4   49990.0   \n",
              "..                                                 ...     ...       ...   \n",
              "715  ASUS Chromebook Flip Touch Celeron Dual Core -...     4.0   23490.0   \n",
              "716  Lenovo IdeaPad Gaming 3 Ryzen 7 Octa Core AMD ...     4.5   73490.0   \n",
              "717  ASUS ROG Zephyrus G15 Ryzen 9 Octa Core 6900HS...     NaN  194990.0   \n",
              "718  ASUS Zenbook Flip 14 OLED (2022) Touch Panel C...     3.0  125990.0   \n",
              "719  Lenovo Ideapad Slim 3i Core i5 10th Gen - (8 G...     4.2   50990.0   \n",
              "\n",
              "                                               Feature  \\\n",
              "0    Intel Core i3 Processor (11th Gen)8 GB DDR4 RA...   \n",
              "1    Intel Core i3 Processor (11th Gen)8 GB DDR4 RA...   \n",
              "2    Intel Core i3 Processor (10th Gen)8 GB DDR4 RA...   \n",
              "3    AMD Ryzen 5 Hexa Core Processor8 GB DDR4 RAM64...   \n",
              "4    Intel Core i5 Processor (10th Gen)8 GB DDR4 RA...   \n",
              "..                                                 ...   \n",
              "715  Intel Celeron Dual Core Processor4 GB LPDDR4 R...   \n",
              "716  AMD Ryzen 7 Octa Core Processor8 GB DDR4 RAM64...   \n",
              "717  AMD Ryzen 9 Octa Core Processor16 GB DDR5 RAM6...   \n",
              "718  Intel Core i7 Processor (12th Gen)16 GB LPDDR5...   \n",
              "719  Intel Core i5 Processor (10th Gen)8 GB DDR4 RA...   \n",
              "\n",
              "                             Processor               RAM  \\\n",
              "0              Intel Core i3 Processor     8 GB DDR4 RAM   \n",
              "1              Intel Core i3 Processor     8 GB DDR4 RAM   \n",
              "2              Intel Core i3 Processor     8 GB DDR4 RAM   \n",
              "3      AMD Ryzen 5 Hexa Core Processor     8 GB DDR4 RAM   \n",
              "4              Intel Core i5 Processor     8 GB DDR4 RAM   \n",
              "..                                 ...               ...   \n",
              "715  Intel Celeron Dual Core Processor   4 GB LPDDR4 RAM   \n",
              "716    AMD Ryzen 7 Octa Core Processor     8 GB DDR4 RAM   \n",
              "717    AMD Ryzen 9 Octa Core Processor    16 GB DDR5 RAM   \n",
              "718            Intel Core i7 Processor  16 GB LPDDR5 RAM   \n",
              "719            Intel Core i5 Processor     8 GB DDR4 RAM   \n",
              "\n",
              "                                     OS             Storage   Brand  \\\n",
              "0    64 bit Windows 11 Operating System          256 GB SSD  Lenovo   \n",
              "1    64 bit Windows 11 Operating System          512 GB SSD  Lenovo   \n",
              "2    64 bit Windows 11 Operating System          512 GB SSD    ASUS   \n",
              "3    64 bit Windows 10 Operating System          512 GB SSD      HP   \n",
              "4    64 bit Windows 11 Operating System          512 GB SSD    ASUS   \n",
              "..                                  ...                 ...     ...   \n",
              "715             Chrome Operating System  64 GB EMMC Storage    ASUS   \n",
              "716  64 bit Windows 11 Operating System          512 GB SSD  Lenovo   \n",
              "717  64 bit Windows 11 Operating System            1 TB SSD    ASUS   \n",
              "718  64 bit Windows 11 Operating System          512 GB SSD    ASUS   \n",
              "719  64 bit Windows 10 Operating System  1 TB HDD256 GB SSD  Lenovo   \n",
              "\n",
              "       Display Touchscreen  \n",
              "0      14 inch          No  \n",
              "1    15.6 inch          No  \n",
              "2    15.6 inch          No  \n",
              "3    15.6 inch          No  \n",
              "4    15.6 inch          No  \n",
              "..         ...         ...  \n",
              "715  11.6 inch         Yes  \n",
              "716  15.6 inch          No  \n",
              "717  15.6 inch          No  \n",
              "718    14 inch         Yes  \n",
              "719  15.6 inch          No  \n",
              "\n",
              "[720 rows x 11 columns]"
            ],
            "text/html": [
              "\n",
              "  <div id=\"df-80f3176a-82a9-47b5-99f2-30f6cf90dc87\">\n",
              "    <div class=\"colab-df-container\">\n",
              "      <div>\n",
              "<style scoped>\n",
              "    .dataframe tbody tr th:only-of-type {\n",
              "        vertical-align: middle;\n",
              "    }\n",
              "\n",
              "    .dataframe tbody tr th {\n",
              "        vertical-align: top;\n",
              "    }\n",
              "\n",
              "    .dataframe thead th {\n",
              "        text-align: right;\n",
              "    }\n",
              "</style>\n",
              "<table border=\"1\" class=\"dataframe\">\n",
              "  <thead>\n",
              "    <tr style=\"text-align: right;\">\n",
              "      <th></th>\n",
              "      <th>Product</th>\n",
              "      <th>Rating</th>\n",
              "      <th>MRP</th>\n",
              "      <th>Feature</th>\n",
              "      <th>Processor</th>\n",
              "      <th>RAM</th>\n",
              "      <th>OS</th>\n",
              "      <th>Storage</th>\n",
              "      <th>Brand</th>\n",
              "      <th>Display</th>\n",
              "      <th>Touchscreen</th>\n",
              "    </tr>\n",
              "  </thead>\n",
              "  <tbody>\n",
              "    <tr>\n",
              "      <th>0</th>\n",
              "      <td>Lenovo IdeaPad 3 Core i3 11th Gen - (8 GB/256 ...</td>\n",
              "      <td>4.2</td>\n",
              "      <td>36990.0</td>\n",
              "      <td>Intel Core i3 Processor (11th Gen)8 GB DDR4 RA...</td>\n",
              "      <td>Intel Core i3 Processor</td>\n",
              "      <td>8 GB DDR4 RAM</td>\n",
              "      <td>64 bit Windows 11 Operating System</td>\n",
              "      <td>256 GB SSD</td>\n",
              "      <td>Lenovo</td>\n",
              "      <td>14 inch</td>\n",
              "      <td>No</td>\n",
              "    </tr>\n",
              "    <tr>\n",
              "      <th>1</th>\n",
              "      <td>Lenovo IdeaPad 3 Core i3 11th Gen - (8 GB/512 ...</td>\n",
              "      <td>4.2</td>\n",
              "      <td>39990.0</td>\n",
              "      <td>Intel Core i3 Processor (11th Gen)8 GB DDR4 RA...</td>\n",
              "      <td>Intel Core i3 Processor</td>\n",
              "      <td>8 GB DDR4 RAM</td>\n",
              "      <td>64 bit Windows 11 Operating System</td>\n",
              "      <td>512 GB SSD</td>\n",
              "      <td>Lenovo</td>\n",
              "      <td>15.6 inch</td>\n",
              "      <td>No</td>\n",
              "    </tr>\n",
              "    <tr>\n",
              "      <th>2</th>\n",
              "      <td>ASUS VivoBook 15 (2022) Core i3 10th Gen - (8 ...</td>\n",
              "      <td>4.3</td>\n",
              "      <td>32990.0</td>\n",
              "      <td>Intel Core i3 Processor (10th Gen)8 GB DDR4 RA...</td>\n",
              "      <td>Intel Core i3 Processor</td>\n",
              "      <td>8 GB DDR4 RAM</td>\n",
              "      <td>64 bit Windows 11 Operating System</td>\n",
              "      <td>512 GB SSD</td>\n",
              "      <td>ASUS</td>\n",
              "      <td>15.6 inch</td>\n",
              "      <td>No</td>\n",
              "    </tr>\n",
              "    <tr>\n",
              "      <th>3</th>\n",
              "      <td>HP Pavilion Ryzen 5 Hexa Core AMD R5-5600H - (...</td>\n",
              "      <td>4.4</td>\n",
              "      <td>49990.0</td>\n",
              "      <td>AMD Ryzen 5 Hexa Core Processor8 GB DDR4 RAM64...</td>\n",
              "      <td>AMD Ryzen 5 Hexa Core Processor</td>\n",
              "      <td>8 GB DDR4 RAM</td>\n",
              "      <td>64 bit Windows 10 Operating System</td>\n",
              "      <td>512 GB SSD</td>\n",
              "      <td>HP</td>\n",
              "      <td>15.6 inch</td>\n",
              "      <td>No</td>\n",
              "    </tr>\n",
              "    <tr>\n",
              "      <th>4</th>\n",
              "      <td>ASUS TUF Gaming F15 Core i5 10th Gen - (8 GB/5...</td>\n",
              "      <td>4.4</td>\n",
              "      <td>49990.0</td>\n",
              "      <td>Intel Core i5 Processor (10th Gen)8 GB DDR4 RA...</td>\n",
              "      <td>Intel Core i5 Processor</td>\n",
              "      <td>8 GB DDR4 RAM</td>\n",
              "      <td>64 bit Windows 11 Operating System</td>\n",
              "      <td>512 GB SSD</td>\n",
              "      <td>ASUS</td>\n",
              "      <td>15.6 inch</td>\n",
              "      <td>No</td>\n",
              "    </tr>\n",
              "    <tr>\n",
              "      <th>...</th>\n",
              "      <td>...</td>\n",
              "      <td>...</td>\n",
              "      <td>...</td>\n",
              "      <td>...</td>\n",
              "      <td>...</td>\n",
              "      <td>...</td>\n",
              "      <td>...</td>\n",
              "      <td>...</td>\n",
              "      <td>...</td>\n",
              "      <td>...</td>\n",
              "      <td>...</td>\n",
              "    </tr>\n",
              "    <tr>\n",
              "      <th>715</th>\n",
              "      <td>ASUS Chromebook Flip Touch Celeron Dual Core -...</td>\n",
              "      <td>4.0</td>\n",
              "      <td>23490.0</td>\n",
              "      <td>Intel Celeron Dual Core Processor4 GB LPDDR4 R...</td>\n",
              "      <td>Intel Celeron Dual Core Processor</td>\n",
              "      <td>4 GB LPDDR4 RAM</td>\n",
              "      <td>Chrome Operating System</td>\n",
              "      <td>64 GB EMMC Storage</td>\n",
              "      <td>ASUS</td>\n",
              "      <td>11.6 inch</td>\n",
              "      <td>Yes</td>\n",
              "    </tr>\n",
              "    <tr>\n",
              "      <th>716</th>\n",
              "      <td>Lenovo IdeaPad Gaming 3 Ryzen 7 Octa Core AMD ...</td>\n",
              "      <td>4.5</td>\n",
              "      <td>73490.0</td>\n",
              "      <td>AMD Ryzen 7 Octa Core Processor8 GB DDR4 RAM64...</td>\n",
              "      <td>AMD Ryzen 7 Octa Core Processor</td>\n",
              "      <td>8 GB DDR4 RAM</td>\n",
              "      <td>64 bit Windows 11 Operating System</td>\n",
              "      <td>512 GB SSD</td>\n",
              "      <td>Lenovo</td>\n",
              "      <td>15.6 inch</td>\n",
              "      <td>No</td>\n",
              "    </tr>\n",
              "    <tr>\n",
              "      <th>717</th>\n",
              "      <td>ASUS ROG Zephyrus G15 Ryzen 9 Octa Core 6900HS...</td>\n",
              "      <td>NaN</td>\n",
              "      <td>194990.0</td>\n",
              "      <td>AMD Ryzen 9 Octa Core Processor16 GB DDR5 RAM6...</td>\n",
              "      <td>AMD Ryzen 9 Octa Core Processor</td>\n",
              "      <td>16 GB DDR5 RAM</td>\n",
              "      <td>64 bit Windows 11 Operating System</td>\n",
              "      <td>1 TB SSD</td>\n",
              "      <td>ASUS</td>\n",
              "      <td>15.6 inch</td>\n",
              "      <td>No</td>\n",
              "    </tr>\n",
              "    <tr>\n",
              "      <th>718</th>\n",
              "      <td>ASUS Zenbook Flip 14 OLED (2022) Touch Panel C...</td>\n",
              "      <td>3.0</td>\n",
              "      <td>125990.0</td>\n",
              "      <td>Intel Core i7 Processor (12th Gen)16 GB LPDDR5...</td>\n",
              "      <td>Intel Core i7 Processor</td>\n",
              "      <td>16 GB LPDDR5 RAM</td>\n",
              "      <td>64 bit Windows 11 Operating System</td>\n",
              "      <td>512 GB SSD</td>\n",
              "      <td>ASUS</td>\n",
              "      <td>14 inch</td>\n",
              "      <td>Yes</td>\n",
              "    </tr>\n",
              "    <tr>\n",
              "      <th>719</th>\n",
              "      <td>Lenovo Ideapad Slim 3i Core i5 10th Gen - (8 G...</td>\n",
              "      <td>4.2</td>\n",
              "      <td>50990.0</td>\n",
              "      <td>Intel Core i5 Processor (10th Gen)8 GB DDR4 RA...</td>\n",
              "      <td>Intel Core i5 Processor</td>\n",
              "      <td>8 GB DDR4 RAM</td>\n",
              "      <td>64 bit Windows 10 Operating System</td>\n",
              "      <td>1 TB HDD256 GB SSD</td>\n",
              "      <td>Lenovo</td>\n",
              "      <td>15.6 inch</td>\n",
              "      <td>No</td>\n",
              "    </tr>\n",
              "  </tbody>\n",
              "</table>\n",
              "<p>720 rows × 11 columns</p>\n",
              "</div>\n",
              "      <button class=\"colab-df-convert\" onclick=\"convertToInteractive('df-80f3176a-82a9-47b5-99f2-30f6cf90dc87')\"\n",
              "              title=\"Convert this dataframe to an interactive table.\"\n",
              "              style=\"display:none;\">\n",
              "        \n",
              "  <svg xmlns=\"http://www.w3.org/2000/svg\" height=\"24px\"viewBox=\"0 0 24 24\"\n",
              "       width=\"24px\">\n",
              "    <path d=\"M0 0h24v24H0V0z\" fill=\"none\"/>\n",
              "    <path d=\"M18.56 5.44l.94 2.06.94-2.06 2.06-.94-2.06-.94-.94-2.06-.94 2.06-2.06.94zm-11 1L8.5 8.5l.94-2.06 2.06-.94-2.06-.94L8.5 2.5l-.94 2.06-2.06.94zm10 10l.94 2.06.94-2.06 2.06-.94-2.06-.94-.94-2.06-.94 2.06-2.06.94z\"/><path d=\"M17.41 7.96l-1.37-1.37c-.4-.4-.92-.59-1.43-.59-.52 0-1.04.2-1.43.59L10.3 9.45l-7.72 7.72c-.78.78-.78 2.05 0 2.83L4 21.41c.39.39.9.59 1.41.59.51 0 1.02-.2 1.41-.59l7.78-7.78 2.81-2.81c.8-.78.8-2.07 0-2.86zM5.41 20L4 18.59l7.72-7.72 1.47 1.35L5.41 20z\"/>\n",
              "  </svg>\n",
              "      </button>\n",
              "      \n",
              "  <style>\n",
              "    .colab-df-container {\n",
              "      display:flex;\n",
              "      flex-wrap:wrap;\n",
              "      gap: 12px;\n",
              "    }\n",
              "\n",
              "    .colab-df-convert {\n",
              "      background-color: #E8F0FE;\n",
              "      border: none;\n",
              "      border-radius: 50%;\n",
              "      cursor: pointer;\n",
              "      display: none;\n",
              "      fill: #1967D2;\n",
              "      height: 32px;\n",
              "      padding: 0 0 0 0;\n",
              "      width: 32px;\n",
              "    }\n",
              "\n",
              "    .colab-df-convert:hover {\n",
              "      background-color: #E2EBFA;\n",
              "      box-shadow: 0px 1px 2px rgba(60, 64, 67, 0.3), 0px 1px 3px 1px rgba(60, 64, 67, 0.15);\n",
              "      fill: #174EA6;\n",
              "    }\n",
              "\n",
              "    [theme=dark] .colab-df-convert {\n",
              "      background-color: #3B4455;\n",
              "      fill: #D2E3FC;\n",
              "    }\n",
              "\n",
              "    [theme=dark] .colab-df-convert:hover {\n",
              "      background-color: #434B5C;\n",
              "      box-shadow: 0px 1px 3px 1px rgba(0, 0, 0, 0.15);\n",
              "      filter: drop-shadow(0px 1px 2px rgba(0, 0, 0, 0.3));\n",
              "      fill: #FFFFFF;\n",
              "    }\n",
              "  </style>\n",
              "\n",
              "      <script>\n",
              "        const buttonEl =\n",
              "          document.querySelector('#df-80f3176a-82a9-47b5-99f2-30f6cf90dc87 button.colab-df-convert');\n",
              "        buttonEl.style.display =\n",
              "          google.colab.kernel.accessAllowed ? 'block' : 'none';\n",
              "\n",
              "        async function convertToInteractive(key) {\n",
              "          const element = document.querySelector('#df-80f3176a-82a9-47b5-99f2-30f6cf90dc87');\n",
              "          const dataTable =\n",
              "            await google.colab.kernel.invokeFunction('convertToInteractive',\n",
              "                                                     [key], {});\n",
              "          if (!dataTable) return;\n",
              "\n",
              "          const docLinkHtml = 'Like what you see? Visit the ' +\n",
              "            '<a target=\"_blank\" href=https://colab.research.google.com/notebooks/data_table.ipynb>data table notebook</a>'\n",
              "            + ' to learn more about interactive tables.';\n",
              "          element.innerHTML = '';\n",
              "          dataTable['output_type'] = 'display_data';\n",
              "          await google.colab.output.renderOutput(dataTable, element);\n",
              "          const docLink = document.createElement('div');\n",
              "          docLink.innerHTML = docLinkHtml;\n",
              "          element.appendChild(docLink);\n",
              "        }\n",
              "      </script>\n",
              "    </div>\n",
              "  </div>\n",
              "  "
            ]
          },
          "metadata": {},
          "execution_count": 204
        }
      ]
    },
    {
      "cell_type": "markdown",
      "source": [
        "### What all manipulations have you done and insights you found?"
      ],
      "metadata": {
        "id": "MSa1f5Uengrz"
      }
    },
    {
      "cell_type": "markdown",
      "source": [
        "The manipulations are:\n",
        "1. Extract Out the information of processor, RAM, OS, Storage, Brand and Laptop_size and store eachc one in separate variable\n",
        "2. Removed the ruppee sign and comma from MRP and change to float.\n",
        "3. Added a new variable as touchscreen(the ones who has touch screen)"
      ],
      "metadata": {
        "id": "LbyXE7I1olp8"
      }
    },
    {
      "cell_type": "markdown",
      "source": [
        "## ***4. EDA***"
      ],
      "metadata": {
        "id": "4nDHtGcODZHY"
      }
    },
    {
      "cell_type": "markdown",
      "source": [
        "***MRP ( Univariate Plots)***"
      ],
      "metadata": {
        "id": "x9F3i7XaI3Ut"
      }
    },
    {
      "cell_type": "code",
      "source": [
        "plt.figure(figsize=(10,5))\n",
        "sns.boxplot(x='MRP',data=df) \n",
        "plt.title('MRP')\n",
        "plt.show()"
      ],
      "metadata": {
        "id": "-4vgjHi9G0yx",
        "colab": {
          "base_uri": "https://localhost:8080/",
          "height": 487
        },
        "outputId": "e0922a84-a749-4d95-dd33-9818c472f2c8"
      },
      "execution_count": 205,
      "outputs": [
        {
          "output_type": "display_data",
          "data": {
            "text/plain": [
              "<Figure size 1000x500 with 1 Axes>"
            ],
            "image/png": "[encoded data removed]"
          },
          "metadata": {}
        }
      ]
    },
    {
      "cell_type": "code",
      "source": [
        "plt.figure(figsize=(10,5))\n",
        "sns.histplot(\n",
        "    df['MRP'], kde=True,\n",
        "    stat=\"density\", kde_kws=dict(cut=3),\n",
        "    alpha=.4, edgecolor=(1, 1, 1, .4),\n",
        "    )\n",
        "plt.axvline(df['MRP'].mean(), color='magenta', linestyle='dashed', linewidth=2)\n",
        "plt.axvline(df['MRP'].median(), color='cyan', linestyle='dashed', linewidth=2)\n",
        "plt.title('MRP distribution')\n",
        "plt.show()"
      ],
      "metadata": {
        "id": "wmHxGHc4DhRs",
        "colab": {
          "base_uri": "https://localhost:8080/",
          "height": 487
        },
        "outputId": "30b87c3f-280e-43eb-c1be-ea524859fb1e"
      },
      "execution_count": 206,
      "outputs": [
        {
          "output_type": "display_data",
          "data": {
            "text/plain": [
              "<Figure size 1000x500 with 1 Axes>"
            ],
            "image/png": "[encoded data removed]"
          },
          "metadata": {}
        }
      ]
    },
    {
      "cell_type": "markdown",
      "source": [
        "***Brand(Univariate Plots)***"
      ],
      "metadata": {
        "id": "J5Iv3koHJAbr"
      }
    },
    {
      "cell_type": "code",
      "source": [
        "plt.figure(figsize=(17,10))\n",
        "ax = sns.countplot(data=df, x='Brand')\n",
        "plt.xlabel('Brand')\n",
        "plt.title('Brand distribution')\n",
        "for p in ax.patches:\n",
        "  ax.text(p.get_x() + p.get_width()/2., p.get_height(), '%d' % int(p.get_height()),ha='center', va='bottom')\n",
        "plt.show()"
      ],
      "metadata": {
        "id": "PbV-xCkxJOOP",
        "colab": {
          "base_uri": "https://localhost:8080/",
          "height": 781
        },
        "outputId": "39cb4579-b72c-4227-8296-861fea9c796d"
      },
      "execution_count": 207,
      "outputs": [
        {
          "output_type": "display_data",
          "data": {
            "text/plain": [
              "<Figure size 1700x1000 with 1 Axes>"
            ],
            "image/png": "[encoded data removed]"
          },
          "metadata": {}
        }
      ]
    },
    {
      "cell_type": "markdown",
      "source": [
        "In brands, we can see that ASUS has the maximum number of laptop available in market whereas vaio, Gigabyte and nokia has only 1 product available in market"
      ],
      "metadata": {
        "id": "SIWpvMnbKJdc"
      }
    },
    {
      "cell_type": "markdown",
      "source": [
        "***Brand Vs MRP (Bivariate)***"
      ],
      "metadata": {
        "id": "By3oTAj6uKKa"
      }
    },
    {
      "cell_type": "code",
      "source": [
        "plt.figure(figsize=(17,5))\n",
        "sns.boxplot(y=df['MRP'],x=df['Brand'],data=df) \n",
        "plt.xlabel('Brand')\n",
        "plt.ylabel('MRP')\n",
        "plt.title('Brand Vs MRP')\n",
        "plt.show()"
      ],
      "metadata": {
        "id": "HKU5N784JN77",
        "colab": {
          "base_uri": "https://localhost:8080/",
          "height": 429
        },
        "outputId": "29ec1ca8-fec9-4b94-b64a-c56224c188c0"
      },
      "execution_count": 208,
      "outputs": [
        {
          "output_type": "display_data",
          "data": {
            "text/plain": [
              "<Figure size 1700x500 with 1 Axes>"
            ],
            "image/png": "[encoded data removed]"
          },
          "metadata": {}
        }
      ]
    },
    {
      "cell_type": "code",
      "source": [
        "df.groupby(['Brand']).agg({'MRP' : ['min', 'max', 'mean']})"
      ],
      "metadata": {
        "id": "xeollaPC7nb_",
        "colab": {
          "base_uri": "https://localhost:8080/",
          "height": 614
        },
        "outputId": "46227ef9-e182-4e05-9ff4-e0e99b3afa86"
      },
      "execution_count": 209,
      "outputs": [
        {
          "output_type": "execute_result",
          "data": {
            "text/plain": [
              "                MRP                         \n",
              "                min       max           mean\n",
              "Brand                                       \n",
              "ALIENWARE  199990.0  345390.0  253390.000000\n",
              "APPLE       88990.0  309490.0  162332.105263\n",
              "ASUS        14990.0  361990.0  115667.589641\n",
              "DELL        30428.0  434830.0   73660.688525\n",
              "GIGABYTE    73990.0   73990.0   73990.000000\n",
              "HP          25990.0  199990.0   65195.557377\n",
              "Infinix     20990.0   52990.0   36890.000000\n",
              "Lenovo      19490.0  157990.0   45454.709184\n",
              "MSI         43990.0  389990.0  121963.966667\n",
              "Nokia       50490.0   50490.0   50490.000000\n",
              "RedmiBook   31990.0   39990.0   39731.935484\n",
              "SAMSUNG     32990.0   59990.0   46490.000000\n",
              "Ultimus     15990.0   19990.0   17990.000000\n",
              "Vaio        40990.0   40990.0   40990.000000\n",
              "acer        24990.0  155490.0   64314.742857\n",
              "realme      46990.0   64999.0   54324.833333"
            ],
            "text/html": [
              "\n",
              "  <div id=\"df-1dc2feb6-53ad-436e-90b8-ad00f2c12b1e\">\n",
              "    <div class=\"colab-df-container\">\n",
              "      <div>\n",
              "<style scoped>\n",
              "    .dataframe tbody tr th:only-of-type {\n",
              "        vertical-align: middle;\n",
              "    }\n",
              "\n",
              "    .dataframe tbody tr th {\n",
              "        vertical-align: top;\n",
              "    }\n",
              "\n",
              "    .dataframe thead tr th {\n",
              "        text-align: left;\n",
              "    }\n",
              "\n",
              "    .dataframe thead tr:last-of-type th {\n",
              "        text-align: right;\n",
              "    }\n",
              "</style>\n",
              "<table border=\"1\" class=\"dataframe\">\n",
              "  <thead>\n",
              "    <tr>\n",
              "      <th></th>\n",
              "      <th colspan=\"3\" halign=\"left\">MRP</th>\n",
              "    </tr>\n",
              "    <tr>\n",
              "      <th></th>\n",
              "      <th>min</th>\n",
              "      <th>max</th>\n",
              "      <th>mean</th>\n",
              "    </tr>\n",
              "    <tr>\n",
              "      <th>Brand</th>\n",
              "      <th></th>\n",
              "      <th></th>\n",
              "      <th></th>\n",
              "    </tr>\n",
              "  </thead>\n",
              "  <tbody>\n",
              "    <tr>\n",
              "      <th>ALIENWARE</th>\n",
              "      <td>199990.0</td>\n",
              "      <td>345390.0</td>\n",
              "      <td>253390.000000</td>\n",
              "    </tr>\n",
              "    <tr>\n",
              "      <th>APPLE</th>\n",
              "      <td>88990.0</td>\n",
              "      <td>309490.0</td>\n",
              "      <td>162332.105263</td>\n",
              "    </tr>\n",
              "    <tr>\n",
              "      <th>ASUS</th>\n",
              "      <td>14990.0</td>\n",
              "      <td>361990.0</td>\n",
              "      <td>115667.589641</td>\n",
              "    </tr>\n",
              "    <tr>\n",
              "      <th>DELL</th>\n",
              "      <td>30428.0</td>\n",
              "      <td>434830.0</td>\n",
              "      <td>73660.688525</td>\n",
              "    </tr>\n",
              "    <tr>\n",
              "      <th>GIGABYTE</th>\n",
              "      <td>73990.0</td>\n",
              "      <td>73990.0</td>\n",
              "      <td>73990.000000</td>\n",
              "    </tr>\n",
              "    <tr>\n",
              "      <th>HP</th>\n",
              "      <td>25990.0</td>\n",
              "      <td>199990.0</td>\n",
              "      <td>65195.557377</td>\n",
              "    </tr>\n",
              "    <tr>\n",
              "      <th>Infinix</th>\n",
              "      <td>20990.0</td>\n",
              "      <td>52990.0</td>\n",
              "      <td>36890.000000</td>\n",
              "    </tr>\n",
              "    <tr>\n",
              "      <th>Lenovo</th>\n",
              "      <td>19490.0</td>\n",
              "      <td>157990.0</td>\n",
              "      <td>45454.709184</td>\n",
              "    </tr>\n",
              "    <tr>\n",
              "      <th>MSI</th>\n",
              "      <td>43990.0</td>\n",
              "      <td>389990.0</td>\n",
              "      <td>121963.966667</td>\n",
              "    </tr>\n",
              "    <tr>\n",
              "      <th>Nokia</th>\n",
              "      <td>50490.0</td>\n",
              "      <td>50490.0</td>\n",
              "      <td>50490.000000</td>\n",
              "    </tr>\n",
              "    <tr>\n",
              "      <th>RedmiBook</th>\n",
              "      <td>31990.0</td>\n",
              "      <td>39990.0</td>\n",
              "      <td>39731.935484</td>\n",
              "    </tr>\n",
              "    <tr>\n",
              "      <th>SAMSUNG</th>\n",
              "      <td>32990.0</td>\n",
              "      <td>59990.0</td>\n",
              "      <td>46490.000000</td>\n",
              "    </tr>\n",
              "    <tr>\n",
              "      <th>Ultimus</th>\n",
              "      <td>15990.0</td>\n",
              "      <td>19990.0</td>\n",
              "      <td>17990.000000</td>\n",
              "    </tr>\n",
              "    <tr>\n",
              "      <th>Vaio</th>\n",
              "      <td>40990.0</td>\n",
              "      <td>40990.0</td>\n",
              "      <td>40990.000000</td>\n",
              "    </tr>\n",
              "    <tr>\n",
              "      <th>acer</th>\n",
              "      <td>24990.0</td>\n",
              "      <td>155490.0</td>\n",
              "      <td>64314.742857</td>\n",
              "    </tr>\n",
              "    <tr>\n",
              "      <th>realme</th>\n",
              "      <td>46990.0</td>\n",
              "      <td>64999.0</td>\n",
              "      <td>54324.833333</td>\n",
              "    </tr>\n",
              "  </tbody>\n",
              "</table>\n",
              "</div>\n",
              "      <button class=\"colab-df-convert\" onclick=\"convertToInteractive('df-1dc2feb6-53ad-436e-90b8-ad00f2c12b1e')\"\n",
              "              title=\"Convert this dataframe to an interactive table.\"\n",
              "              style=\"display:none;\">\n",
              "        \n",
              "  <svg xmlns=\"http://www.w3.org/2000/svg\" height=\"24px\"viewBox=\"0 0 24 24\"\n",
              "       width=\"24px\">\n",
              "    <path d=\"M0 0h24v24H0V0z\" fill=\"none\"/>\n",
              "    <path d=\"M18.56 5.44l.94 2.06.94-2.06 2.06-.94-2.06-.94-.94-2.06-.94 2.06-2.06.94zm-11 1L8.5 8.5l.94-2.06 2.06-.94-2.06-.94L8.5 2.5l-.94 2.06-2.06.94zm10 10l.94 2.06.94-2.06 2.06-.94-2.06-.94-.94-2.06-.94 2.06-2.06.94z\"/><path d=\"M17.41 7.96l-1.37-1.37c-.4-.4-.92-.59-1.43-.59-.52 0-1.04.2-1.43.59L10.3 9.45l-7.72 7.72c-.78.78-.78 2.05 0 2.83L4 21.41c.39.39.9.59 1.41.59.51 0 1.02-.2 1.41-.59l7.78-7.78 2.81-2.81c.8-.78.8-2.07 0-2.86zM5.41 20L4 18.59l7.72-7.72 1.47 1.35L5.41 20z\"/>\n",
              "  </svg>\n",
              "      </button>\n",
              "      \n",
              "  <style>\n",
              "    .colab-df-container {\n",
              "      display:flex;\n",
              "      flex-wrap:wrap;\n",
              "      gap: 12px;\n",
              "    }\n",
              "\n",
              "    .colab-df-convert {\n",
              "      background-color: #E8F0FE;\n",
              "      border: none;\n",
              "      border-radius: 50%;\n",
              "      cursor: pointer;\n",
              "      display: none;\n",
              "      fill: #1967D2;\n",
              "      height: 32px;\n",
              "      padding: 0 0 0 0;\n",
              "      width: 32px;\n",
              "    }\n",
              "\n",
              "    .colab-df-convert:hover {\n",
              "      background-color: #E2EBFA;\n",
              "      box-shadow: 0px 1px 2px rgba(60, 64, 67, 0.3), 0px 1px 3px 1px rgba(60, 64, 67, 0.15);\n",
              "      fill: #174EA6;\n",
              "    }\n",
              "\n",
              "    [theme=dark] .colab-df-convert {\n",
              "      background-color: #3B4455;\n",
              "      fill: #D2E3FC;\n",
              "    }\n",
              "\n",
              "    [theme=dark] .colab-df-convert:hover {\n",
              "      background-color: #434B5C;\n",
              "      box-shadow: 0px 1px 3px 1px rgba(0, 0, 0, 0.15);\n",
              "      filter: drop-shadow(0px 1px 2px rgba(0, 0, 0, 0.3));\n",
              "      fill: #FFFFFF;\n",
              "    }\n",
              "  </style>\n",
              "\n",
              "      <script>\n",
              "        const buttonEl =\n",
              "          document.querySelector('#df-1dc2feb6-53ad-436e-90b8-ad00f2c12b1e button.colab-df-convert');\n",
              "        buttonEl.style.display =\n",
              "          google.colab.kernel.accessAllowed ? 'block' : 'none';\n",
              "\n",
              "        async function convertToInteractive(key) {\n",
              "          const element = document.querySelector('#df-1dc2feb6-53ad-436e-90b8-ad00f2c12b1e');\n",
              "          const dataTable =\n",
              "            await google.colab.kernel.invokeFunction('convertToInteractive',\n",
              "                                                     [key], {});\n",
              "          if (!dataTable) return;\n",
              "\n",
              "          const docLinkHtml = 'Like what you see? Visit the ' +\n",
              "            '<a target=\"_blank\" href=https://colab.research.google.com/notebooks/data_table.ipynb>data table notebook</a>'\n",
              "            + ' to learn more about interactive tables.';\n",
              "          element.innerHTML = '';\n",
              "          dataTable['output_type'] = 'display_data';\n",
              "          await google.colab.output.renderOutput(dataTable, element);\n",
              "          const docLink = document.createElement('div');\n",
              "          docLink.innerHTML = docLinkHtml;\n",
              "          element.appendChild(docLink);\n",
              "        }\n",
              "      </script>\n",
              "    </div>\n",
              "  </div>\n",
              "  "
            ]
          },
          "metadata": {},
          "execution_count": 209
        }
      ]
    },
    {
      "cell_type": "markdown",
      "source": [
        "The ASUS and Apple is distributed among varying price ranges while others having price ranges lower than 200000  while having some of their products above them.Overall, all brands are varying in price ranges"
      ],
      "metadata": {
        "id": "GWv12O1DWXgk"
      }
    },
    {
      "cell_type": "markdown",
      "source": [
        "***Processor(Univariate)***"
      ],
      "metadata": {
        "id": "phApiN05GjZv"
      }
    },
    {
      "cell_type": "code",
      "source": [
        "# Classified Each processor according too its importance\n",
        "def fetch_processor(text):\n",
        "    if text == 'Intel Core i3 Processor' or text == 'Intel Core i5 Processor' or text == 'Intel Core i7 Processor' or text == 'Intel Core i9 Processor' or text == 'AMD Ryzen 5 Hexa Core Processor' or text == 'AMD Ryzen 7 Octa Core Processor' or text == 'AMD Ryzen 9 Octa Core Processor' or text == 'AMD Ryzen 3 Dual Core Processor' or text == 'AMD Ryzen 5 Quad Core Processor':\n",
        "        return text\n",
        "    else:\n",
        "        if text.split(' ')[0] == 'Intel':\n",
        "            return 'Intel Other Processor'\n",
        "        elif text.split(' ')[0] == 'AMD':\n",
        "          return 'AMD Other Processor'\n",
        "        elif text.split(' ')[0] == 'Qualcomm':\n",
        "          return 'Qualcomm Snapdragon Processor'\n",
        "        else:\n",
        "            return 'Apple Processor'"
      ],
      "metadata": {
        "id": "dozFN7veKwI2"
      },
      "execution_count": 210,
      "outputs": []
    },
    {
      "cell_type": "code",
      "source": [
        "df['Processor'] = df['Processor'].apply(fetch_processor)"
      ],
      "metadata": {
        "id": "syH8CI4xNCX1"
      },
      "execution_count": 211,
      "outputs": []
    },
    {
      "cell_type": "code",
      "source": [
        "plt.figure(figsize=(50,15))\n",
        "ax = sns.countplot(data=df, x='Processor')\n",
        "plt.xlabel('Processor')\n",
        "plt.title('Processor distribution')\n",
        "for p in ax.patches:\n",
        "  ax.text(p.get_x() + p.get_width()/2., p.get_height(), '%d' % int(p.get_height()),ha='center', va='bottom')\n",
        "plt.show()"
      ],
      "metadata": {
        "id": "IThDVsdoGi9J",
        "colab": {
          "base_uri": "https://localhost:8080/",
          "height": 408
        },
        "outputId": "74f9e0dd-7b27-40ba-9f66-1fc15a70d4fa"
      },
      "execution_count": 212,
      "outputs": [
        {
          "output_type": "display_data",
          "data": {
            "text/plain": [
              "<Figure size 5000x1500 with 1 Axes>"
            ],
            "image/png": "[encoded data removed]"
          },
          "metadata": {}
        }
      ]
    },
    {
      "cell_type": "markdown",
      "source": [
        "***MRP vs Processor (Bivariate)***"
      ],
      "metadata": {
        "id": "q-snEvolHJhG"
      }
    },
    {
      "cell_type": "code",
      "source": [
        "plt.figure(figsize=(70,15))\n",
        "sns.boxplot(y=df['MRP'],x=df['Processor'],data=df) \n",
        "plt.xlabel('Processor')\n",
        "plt.ylabel('MRP')\n",
        "plt.title('Processor Vs MRP')\n",
        "plt.show()"
      ],
      "metadata": {
        "id": "MKUDY-kRHISu",
        "colab": {
          "base_uri": "https://localhost:8080/",
          "height": 296
        },
        "outputId": "bf79f238-daa3-4eaa-8230-bed353327ae7"
      },
      "execution_count": 213,
      "outputs": [
        {
          "output_type": "display_data",
          "data": {
            "text/plain": [
              "<Figure size 7000x1500 with 1 Axes>"
            ],
            "image/png": "[encoded data removed]"
          },
          "metadata": {}
        }
      ]
    },
    {
      "cell_type": "markdown",
      "source": [
        "***Storage(Univariate)***"
      ],
      "metadata": {
        "id": "44OOb6sTZK6b"
      }
    },
    {
      "cell_type": "code",
      "source": [
        "df['Storage'].value_counts()"
      ],
      "metadata": {
        "id": "jm83j2LCT1sP",
        "colab": {
          "base_uri": "https://localhost:8080/"
        },
        "outputId": "6f59b528-f8fd-4cd7-e69d-b8acde5b967a"
      },
      "execution_count": 214,
      "outputs": [
        {
          "output_type": "execute_result",
          "data": {
            "text/plain": [
              "512 GB SSD              375\n",
              "1 TB SSD                176\n",
              "256 GB SSD               98\n",
              "1 TB HDD256 GB SSD       26\n",
              "1 TB HDD                 17\n",
              "64 GB EMMC Storage        7\n",
              "2 TB SSD                  7\n",
              "128 GB SSD                6\n",
              "128 GB EMMC Storage       2\n",
              "1 TB HDD512 GB SSD        2\n",
              "1 TB HDD128 GB SSD        2\n",
              "256 GB HDD256 GB SSD      1\n",
              "32 GB EMMC Storage        1\n",
              "Name: Storage, dtype: int64"
            ]
          },
          "metadata": {},
          "execution_count": 214
        }
      ]
    },
    {
      "cell_type": "code",
      "source": [
        "# From storage we carry out SSD and HDD value and store in particular variables\n",
        "regex_ssd = r'(\\d+)\\s*(TB|GB)\\s*SSD'\n",
        "regex_hdd =r'(\\d+)\\s*(TB|GB)\\s*HDD'\n",
        "regex_emmc = r'(\\d+)\\s*(TB|GB)\\s*EMMC'\n",
        "df['SSD'] = df['Storage'].apply(lambda x: [match[0] for match in re.findall(regex_ssd, x)])\n",
        "df['HDD'] = df['Storage'].apply(lambda x: [match[0] for match in re.findall(regex_hdd, x)])\n",
        "df['EMMC'] = df['Storage'].apply(lambda x: [match[0] for match in re.findall(regex_emmc, x)])"
      ],
      "metadata": {
        "id": "3t1ZewBaXbuo"
      },
      "execution_count": 215,
      "outputs": []
    },
    {
      "cell_type": "code",
      "source": [
        "df.SSD = df.SSD.apply(lambda x : ''.join(x))\n",
        "df.HDD = df.HDD.apply(lambda x : ''.join(x))\n",
        "df.EMMC = df.EMMC.apply(lambda x : ''.join(x))"
      ],
      "metadata": {
        "id": "JusJbpthb3MT"
      },
      "execution_count": 216,
      "outputs": []
    },
    {
      "cell_type": "code",
      "source": [
        "df['SSD'] = df['SSD'].replace({'1': '1000', '2': '2000','128128':'128','':'0'})\n",
        "df['HDD'] = df['HDD'].replace({'1': '1000','':'0'})\n",
        "df['EMMC'] = df['EMMC'].replace({'':'0'})"
      ],
      "metadata": {
        "id": "571wpWpiaBH7"
      },
      "execution_count": 217,
      "outputs": []
    },
    {
      "cell_type": "code",
      "source": [
        "df['SSD'] = df['SSD'].astype(int)\n",
        "df['HDD'] = df['HDD'].astype(int)\n",
        "df['EMMC'] = df['EMMC'].astype(int)"
      ],
      "metadata": {
        "id": "G6Ft1L9AhDmw"
      },
      "execution_count": 218,
      "outputs": []
    },
    {
      "cell_type": "code",
      "source": [
        "plt.figure(figsize=(15,7))\n",
        "ax = sns.countplot(data=df, x='SSD')\n",
        "plt.xlabel('SSD')\n",
        "plt.title('SSD distribution')\n",
        "for p in ax.patches:\n",
        "  ax.text(p.get_x() + p.get_width()/2., p.get_height(), '%d' % int(p.get_height()),ha='center', va='bottom')\n",
        "plt.show()"
      ],
      "metadata": {
        "id": "Rro-XRLOJOBb",
        "colab": {
          "base_uri": "https://localhost:8080/",
          "height": 641
        },
        "outputId": "2b929959-b7f1-4455-a4f9-959870281732"
      },
      "execution_count": 219,
      "outputs": [
        {
          "output_type": "display_data",
          "data": {
            "text/plain": [
              "<Figure size 1500x700 with 1 Axes>"
            ],
            "image/png": "[encoded data removed]"
          },
          "metadata": {}
        }
      ]
    },
    {
      "cell_type": "markdown",
      "source": [
        "***MRP Vs Storage(Bivariate)***"
      ],
      "metadata": {
        "id": "JTo24my4w_oy"
      }
    },
    {
      "cell_type": "code",
      "source": [
        "plt.figure(figsize=(30,7))\n",
        "sns.boxplot(y=df['MRP'],x=df['SSD'],data=df) \n",
        "plt.xlabel('SSD')\n",
        "plt.ylabel('MRP')\n",
        "plt.title('SSD Vs MRP')\n",
        "plt.show()"
      ],
      "metadata": {
        "id": "DwL-8jRoJNwo",
        "colab": {
          "base_uri": "https://localhost:8080/",
          "height": 337
        },
        "outputId": "5cb08909-5802-46c6-e1f2-41fac3fec317"
      },
      "execution_count": 220,
      "outputs": [
        {
          "output_type": "display_data",
          "data": {
            "text/plain": [
              "<Figure size 3000x700 with 1 Axes>"
            ],
            "image/png": "[encoded data removed]"
          },
          "metadata": {}
        }
      ]
    },
    {
      "cell_type": "markdown",
      "source": [
        "*** RAM(Univariate)***"
      ],
      "metadata": {
        "id": "u4wb4sCQDKnB"
      }
    },
    {
      "cell_type": "code",
      "source": [
        "# Change the ram from categorical to numerical/discrete variable\n",
        "df[\"RAM\"] = df['RAM'].apply(lambda x:\" \".join(x.split()[0:1]))"
      ],
      "metadata": {
        "id": "SV-PVFtFDPe8"
      },
      "execution_count": 221,
      "outputs": []
    },
    {
      "cell_type": "code",
      "source": [
        "df['RAM'] = df['RAM'].astype(int)"
      ],
      "metadata": {
        "id": "_jNXs-RQFYOA"
      },
      "execution_count": 222,
      "outputs": []
    },
    {
      "cell_type": "code",
      "source": [
        "df[\"RAM\"] = df[\"RAM\"].replace(128,8)"
      ],
      "metadata": {
        "id": "D0Nq6-_En25N"
      },
      "execution_count": 223,
      "outputs": []
    },
    {
      "cell_type": "code",
      "source": [
        "plt.figure(figsize=(15,5))\n",
        "ax = sns.countplot(data=df, x='RAM')\n",
        "plt.xlabel('RAM')\n",
        "plt.title('RAM distribution')\n",
        "for p in ax.patches:\n",
        "  ax.text(p.get_x() + p.get_width()/2., p.get_height(), '%d' % int(p.get_height()),ha='center', va='bottom')\n",
        "plt.show()"
      ],
      "metadata": {
        "id": "74fvShXb_lQY",
        "colab": {
          "base_uri": "https://localhost:8080/",
          "height": 487
        },
        "outputId": "87f5e738-7d69-4d89-e92c-29d9c92f3200"
      },
      "execution_count": 224,
      "outputs": [
        {
          "output_type": "display_data",
          "data": {
            "text/plain": [
              "<Figure size 1500x500 with 1 Axes>"
            ],
            "image/png": "[encoded data removed]"
          },
          "metadata": {}
        }
      ]
    },
    {
      "cell_type": "markdown",
      "source": [
        "***RAM Vs MRP (Bivariate)***"
      ],
      "metadata": {
        "id": "kqI4mEemEiFZ"
      }
    },
    {
      "cell_type": "code",
      "source": [
        "plt.figure(figsize=(15,5))\n",
        "sns.boxplot(y=df['MRP'],x=df['RAM'],data=df) \n",
        "plt.xlabel('RAM')\n",
        "plt.ylabel('MRP')\n",
        "plt.title('RAM Vs MRP')\n",
        "plt.show()"
      ],
      "metadata": {
        "id": "eUo79lbaBtsR",
        "colab": {
          "base_uri": "https://localhost:8080/",
          "height": 480
        },
        "outputId": "9199ff18-0526-4fe0-8ec2-931a453ae38c"
      },
      "execution_count": 225,
      "outputs": [
        {
          "output_type": "display_data",
          "data": {
            "text/plain": [
              "<Figure size 1500x500 with 1 Axes>"
            ],
            "image/png": "[encoded data removed]"
          },
          "metadata": {}
        }
      ]
    },
    {
      "cell_type": "code",
      "source": [
        "df.groupby('RAM')['MRP'].mean()"
      ],
      "metadata": {
        "id": "pkwe8nKwV_Ms",
        "colab": {
          "base_uri": "https://localhost:8080/"
        },
        "outputId": "409ad87f-3666-4905-ba88-d84ded8e4159"
      },
      "execution_count": 226,
      "outputs": [
        {
          "output_type": "execute_result",
          "data": {
            "text/plain": [
              "RAM\n",
              "4      29448.027027\n",
              "8      48788.905707\n",
              "16    125825.577947\n",
              "32    288974.705882\n",
              "Name: MRP, dtype: float64"
            ]
          },
          "metadata": {},
          "execution_count": 226
        }
      ]
    },
    {
      "cell_type": "markdown",
      "source": [
        "***Display(Univariate)***"
      ],
      "metadata": {
        "id": "0xSnA9587yHY"
      }
    },
    {
      "cell_type": "code",
      "source": [
        "df[\"Display_size\"] = df['Display'].apply(lambda x:\" \".join(x.split()[0:1]))"
      ],
      "metadata": {
        "id": "tsjl2FKJ7uWG"
      },
      "execution_count": 227,
      "outputs": []
    },
    {
      "cell_type": "code",
      "source": [
        "df[\"Display_size\"] = df[\"Display_size\"].astype(float)"
      ],
      "metadata": {
        "id": "TACBL3Sx-IRW"
      },
      "execution_count": 228,
      "outputs": []
    },
    {
      "cell_type": "code",
      "source": [
        "plt.figure(figsize=(15,5))\n",
        "ax = sns.countplot(data=df, x='Display_size')\n",
        "plt.xlabel('Display_size')\n",
        "plt.title('Display_size distribution')\n",
        "for p in ax.patches:\n",
        "  ax.text(p.get_x() + p.get_width()/2., p.get_height(), '%d' % int(p.get_height()),ha='center', va='bottom')\n",
        "plt.show()"
      ],
      "metadata": {
        "id": "U16uBILvBx5e",
        "colab": {
          "base_uri": "https://localhost:8080/",
          "height": 487
        },
        "outputId": "642d8d33-423a-413e-a1ff-2f78795c8def"
      },
      "execution_count": 229,
      "outputs": [
        {
          "output_type": "display_data",
          "data": {
            "text/plain": [
              "<Figure size 1500x500 with 1 Axes>"
            ],
            "image/png": "[encoded data removed]"
          },
          "metadata": {}
        }
      ]
    },
    {
      "cell_type": "markdown",
      "source": [
        "***Display Vs MRP (Bivariate)***"
      ],
      "metadata": {
        "id": "nb5V8scYClBk"
      }
    },
    {
      "cell_type": "code",
      "source": [
        "plt.figure(figsize=(15,5))\n",
        "sns.boxplot(y=df['MRP'],x=df['Display_size'],data=df) \n",
        "plt.xlabel('Display_size')\n",
        "plt.ylabel('MRP')\n",
        "plt.title('Display_size Vs MRP')\n",
        "plt.show()"
      ],
      "metadata": {
        "id": "j-CT_3uqCF4M",
        "colab": {
          "base_uri": "https://localhost:8080/",
          "height": 480
        },
        "outputId": "2e021866-e682-4662-cb8a-6c6ee775ec1e"
      },
      "execution_count": 230,
      "outputs": [
        {
          "output_type": "display_data",
          "data": {
            "text/plain": [
              "<Figure size 1500x500 with 1 Axes>"
            ],
            "image/png": "[encoded data removed]"
          },
          "metadata": {}
        }
      ]
    },
    {
      "cell_type": "markdown",
      "source": [
        "***Touchscreen(Univariate)***"
      ],
      "metadata": {
        "id": "lteR00WcDNQW"
      }
    },
    {
      "cell_type": "code",
      "source": [
        "plt.figure(figsize=(10,5))\n",
        "ax = sns.countplot(data=df, x='Touchscreen')\n",
        "plt.xlabel('Touchscreen')\n",
        "plt.title('Touchscreen distribution')\n",
        "for p in ax.patches:\n",
        "  ax.text(p.get_x() + p.get_width()/2., p.get_height(), '%d' % int(p.get_height()),ha='center', va='bottom')\n",
        "plt.show()"
      ],
      "metadata": {
        "id": "MbxzDHJLDTQt",
        "colab": {
          "base_uri": "https://localhost:8080/",
          "height": 487
        },
        "outputId": "4863f81a-3f2d-4db4-c467-39b08d898fb0"
      },
      "execution_count": 231,
      "outputs": [
        {
          "output_type": "display_data",
          "data": {
            "text/plain": [
              "<Figure size 1000x500 with 1 Axes>"
            ],
            "image/png": "[encoded data removed]"
          },
          "metadata": {}
        }
      ]
    },
    {
      "cell_type": "markdown",
      "source": [
        "***Touchscreen Vs MRP (Bivariate)***"
      ],
      "metadata": {
        "id": "hCgIAxrkD0Ud"
      }
    },
    {
      "cell_type": "code",
      "source": [
        "plt.figure(figsize=(15,5))\n",
        "sns.boxplot(y=df['MRP'],x=df['Touchscreen'],data=df) \n",
        "plt.xlabel('Touchscreen')\n",
        "plt.ylabel('MRP')\n",
        "plt.title('Touchscreen Vs MRP')\n",
        "plt.show()"
      ],
      "metadata": {
        "id": "dT3qFKuTDkSE",
        "colab": {
          "base_uri": "https://localhost:8080/",
          "height": 480
        },
        "outputId": "5d389e5b-37bd-492c-9952-7378561ecb4b"
      },
      "execution_count": 232,
      "outputs": [
        {
          "output_type": "display_data",
          "data": {
            "text/plain": [
              "<Figure size 1500x500 with 1 Axes>"
            ],
            "image/png": "[encoded data removed]"
          },
          "metadata": {}
        }
      ]
    },
    {
      "cell_type": "markdown",
      "source": [
        "***Operating System(Univariate)***"
      ],
      "metadata": {
        "id": "dKR5x7HfU_FU"
      }
    },
    {
      "cell_type": "code",
      "source": [
        "df['OS'].unique()"
      ],
      "metadata": {
        "colab": {
          "base_uri": "https://localhost:8080/"
        },
        "id": "CJapyZtcVwEW",
        "outputId": "cfd8dcc0-7d16-4b55-ee68-934f79536cad"
      },
      "execution_count": 233,
      "outputs": [
        {
          "output_type": "execute_result",
          "data": {
            "text/plain": [
              "array(['64 bit Windows 11 Operating System',\n",
              "       '64 bit Windows 10 Operating System', 'Mac OS Operating System',\n",
              "       'DOS Operating System', 'Chrome Operating System',\n",
              "       '32 bit Windows 11 Operating System',\n",
              "       '64 bit DOS Operating System'], dtype=object)"
            ]
          },
          "metadata": {},
          "execution_count": 233
        }
      ]
    },
    {
      "cell_type": "code",
      "source": [
        "plt.figure(figsize=(40,10))\n",
        "ax = sns.countplot(data=df, x='OS')\n",
        "plt.xlabel('OS')\n",
        "plt.title('OS distribution')\n",
        "for p in ax.patches:\n",
        "  ax.text(p.get_x() + p.get_width()/2., p.get_height(), '%d' % int(p.get_height()),ha='center', va='bottom')\n",
        "plt.show()"
      ],
      "metadata": {
        "colab": {
          "base_uri": "https://localhost:8080/",
          "height": 352
        },
        "id": "KJzYnfFSVExB",
        "outputId": "7f40a6f9-12ee-4947-b365-3d66dd003273"
      },
      "execution_count": 234,
      "outputs": [
        {
          "output_type": "display_data",
          "data": {
            "text/plain": [
              "<Figure size 4000x1000 with 1 Axes>"
            ],
            "image/png": "[encoded data removed]"
          },
          "metadata": {}
        }
      ]
    },
    {
      "cell_type": "markdown",
      "source": [
        "***OS Vs MRP (Bivariate)***"
      ],
      "metadata": {
        "id": "CzbAMOlYW2ev"
      }
    },
    {
      "cell_type": "code",
      "source": [
        "plt.figure(figsize=(40,10))\n",
        "sns.boxplot(y=df['MRP'],x=df['OS'],data=df) \n",
        "plt.xlabel('OS')\n",
        "plt.ylabel('MRP')\n",
        "plt.title('OS Vs MRP')\n",
        "plt.show()"
      ],
      "metadata": {
        "colab": {
          "base_uri": "https://localhost:8080/",
          "height": 349
        },
        "id": "lsa7msyKW7Ot",
        "outputId": "77ada24d-d62a-486e-cc24-41af904d162a"
      },
      "execution_count": 235,
      "outputs": [
        {
          "output_type": "display_data",
          "data": {
            "text/plain": [
              "<Figure size 4000x1000 with 1 Axes>"
            ],
            "image/png": "[encoded data removed]"
          },
          "metadata": {}
        }
      ]
    },
    {
      "cell_type": "code",
      "source": [
        "df.head()"
      ],
      "metadata": {
        "id": "P5hKfjBL_iuR",
        "colab": {
          "base_uri": "https://localhost:8080/",
          "height": 424
        },
        "outputId": "a10b80ca-ba15-4c8d-cc7e-3f079935faf5"
      },
      "execution_count": 236,
      "outputs": [
        {
          "output_type": "execute_result",
          "data": {
            "text/plain": [
              "                                             Product  Rating      MRP  \\\n",
              "0  Lenovo IdeaPad 3 Core i3 11th Gen - (8 GB/256 ...     4.2  36990.0   \n",
              "1  Lenovo IdeaPad 3 Core i3 11th Gen - (8 GB/512 ...     4.2  39990.0   \n",
              "2  ASUS VivoBook 15 (2022) Core i3 10th Gen - (8 ...     4.3  32990.0   \n",
              "3  HP Pavilion Ryzen 5 Hexa Core AMD R5-5600H - (...     4.4  49990.0   \n",
              "4  ASUS TUF Gaming F15 Core i5 10th Gen - (8 GB/5...     4.4  49990.0   \n",
              "\n",
              "                                             Feature  \\\n",
              "0  Intel Core i3 Processor (11th Gen)8 GB DDR4 RA...   \n",
              "1  Intel Core i3 Processor (11th Gen)8 GB DDR4 RA...   \n",
              "2  Intel Core i3 Processor (10th Gen)8 GB DDR4 RA...   \n",
              "3  AMD Ryzen 5 Hexa Core Processor8 GB DDR4 RAM64...   \n",
              "4  Intel Core i5 Processor (10th Gen)8 GB DDR4 RA...   \n",
              "\n",
              "                         Processor  RAM                                  OS  \\\n",
              "0          Intel Core i3 Processor    8  64 bit Windows 11 Operating System   \n",
              "1          Intel Core i3 Processor    8  64 bit Windows 11 Operating System   \n",
              "2          Intel Core i3 Processor    8  64 bit Windows 11 Operating System   \n",
              "3  AMD Ryzen 5 Hexa Core Processor    8  64 bit Windows 10 Operating System   \n",
              "4          Intel Core i5 Processor    8  64 bit Windows 11 Operating System   \n",
              "\n",
              "      Storage   Brand    Display Touchscreen  SSD  HDD  EMMC  Display_size  \n",
              "0  256 GB SSD  Lenovo    14 inch          No  256    0     0          14.0  \n",
              "1  512 GB SSD  Lenovo  15.6 inch          No  512    0     0          15.6  \n",
              "2  512 GB SSD    ASUS  15.6 inch          No  512    0     0          15.6  \n",
              "3  512 GB SSD      HP  15.6 inch          No  512    0     0          15.6  \n",
              "4  512 GB SSD    ASUS  15.6 inch          No  512    0     0          15.6  "
            ],
            "text/html": [
              "\n",
              "  <div id=\"df-8c8b7a2f-03cb-4d13-808f-1d5b8e514b43\">\n",
              "    <div class=\"colab-df-container\">\n",
              "      <div>\n",
              "<style scoped>\n",
              "    .dataframe tbody tr th:only-of-type {\n",
              "        vertical-align: middle;\n",
              "    }\n",
              "\n",
              "    .dataframe tbody tr th {\n",
              "        vertical-align: top;\n",
              "    }\n",
              "\n",
              "    .dataframe thead th {\n",
              "        text-align: right;\n",
              "    }\n",
              "</style>\n",
              "<table border=\"1\" class=\"dataframe\">\n",
              "  <thead>\n",
              "    <tr style=\"text-align: right;\">\n",
              "      <th></th>\n",
              "      <th>Product</th>\n",
              "      <th>Rating</th>\n",
              "      <th>MRP</th>\n",
              "      <th>Feature</th>\n",
              "      <th>Processor</th>\n",
              "      <th>RAM</th>\n",
              "      <th>OS</th>\n",
              "      <th>Storage</th>\n",
              "      <th>Brand</th>\n",
              "      <th>Display</th>\n",
              "      <th>Touchscreen</th>\n",
              "      <th>SSD</th>\n",
              "      <th>HDD</th>\n",
              "      <th>EMMC</th>\n",
              "      <th>Display_size</th>\n",
              "    </tr>\n",
              "  </thead>\n",
              "  <tbody>\n",
              "    <tr>\n",
              "      <th>0</th>\n",
              "      <td>Lenovo IdeaPad 3 Core i3 11th Gen - (8 GB/256 ...</td>\n",
              "      <td>4.2</td>\n",
              "      <td>36990.0</td>\n",
              "      <td>Intel Core i3 Processor (11th Gen)8 GB DDR4 RA...</td>\n",
              "      <td>Intel Core i3 Processor</td>\n",
              "      <td>8</td>\n",
              "      <td>64 bit Windows 11 Operating System</td>\n",
              "      <td>256 GB SSD</td>\n",
              "      <td>Lenovo</td>\n",
              "      <td>14 inch</td>\n",
              "      <td>No</td>\n",
              "      <td>256</td>\n",
              "      <td>0</td>\n",
              "      <td>0</td>\n",
              "      <td>14.0</td>\n",
              "    </tr>\n",
              "    <tr>\n",
              "      <th>1</th>\n",
              "      <td>Lenovo IdeaPad 3 Core i3 11th Gen - (8 GB/512 ...</td>\n",
              "      <td>4.2</td>\n",
              "      <td>39990.0</td>\n",
              "      <td>Intel Core i3 Processor (11th Gen)8 GB DDR4 RA...</td>\n",
              "      <td>Intel Core i3 Processor</td>\n",
              "      <td>8</td>\n",
              "      <td>64 bit Windows 11 Operating System</td>\n",
              "      <td>512 GB SSD</td>\n",
              "      <td>Lenovo</td>\n",
              "      <td>15.6 inch</td>\n",
              "      <td>No</td>\n",
              "      <td>512</td>\n",
              "      <td>0</td>\n",
              "      <td>0</td>\n",
              "      <td>15.6</td>\n",
              "    </tr>\n",
              "    <tr>\n",
              "      <th>2</th>\n",
              "      <td>ASUS VivoBook 15 (2022) Core i3 10th Gen - (8 ...</td>\n",
              "      <td>4.3</td>\n",
              "      <td>32990.0</td>\n",
              "      <td>Intel Core i3 Processor (10th Gen)8 GB DDR4 RA...</td>\n",
              "      <td>Intel Core i3 Processor</td>\n",
              "      <td>8</td>\n",
              "      <td>64 bit Windows 11 Operating System</td>\n",
              "      <td>512 GB SSD</td>\n",
              "      <td>ASUS</td>\n",
              "      <td>15.6 inch</td>\n",
              "      <td>No</td>\n",
              "      <td>512</td>\n",
              "      <td>0</td>\n",
              "      <td>0</td>\n",
              "      <td>15.6</td>\n",
              "    </tr>\n",
              "    <tr>\n",
              "      <th>3</th>\n",
              "      <td>HP Pavilion Ryzen 5 Hexa Core AMD R5-5600H - (...</td>\n",
              "      <td>4.4</td>\n",
              "      <td>49990.0</td>\n",
              "      <td>AMD Ryzen 5 Hexa Core Processor8 GB DDR4 RAM64...</td>\n",
              "      <td>AMD Ryzen 5 Hexa Core Processor</td>\n",
              "      <td>8</td>\n",
              "      <td>64 bit Windows 10 Operating System</td>\n",
              "      <td>512 GB SSD</td>\n",
              "      <td>HP</td>\n",
              "      <td>15.6 inch</td>\n",
              "      <td>No</td>\n",
              "      <td>512</td>\n",
              "      <td>0</td>\n",
              "      <td>0</td>\n",
              "      <td>15.6</td>\n",
              "    </tr>\n",
              "    <tr>\n",
              "      <th>4</th>\n",
              "      <td>ASUS TUF Gaming F15 Core i5 10th Gen - (8 GB/5...</td>\n",
              "      <td>4.4</td>\n",
              "      <td>49990.0</td>\n",
              "      <td>Intel Core i5 Processor (10th Gen)8 GB DDR4 RA...</td>\n",
              "      <td>Intel Core i5 Processor</td>\n",
              "      <td>8</td>\n",
              "      <td>64 bit Windows 11 Operating System</td>\n",
              "      <td>512 GB SSD</td>\n",
              "      <td>ASUS</td>\n",
              "      <td>15.6 inch</td>\n",
              "      <td>No</td>\n",
              "      <td>512</td>\n",
              "      <td>0</td>\n",
              "      <td>0</td>\n",
              "      <td>15.6</td>\n",
              "    </tr>\n",
              "  </tbody>\n",
              "</table>\n",
              "</div>\n",
              "      <button class=\"colab-df-convert\" onclick=\"convertToInteractive('df-8c8b7a2f-03cb-4d13-808f-1d5b8e514b43')\"\n",
              "              title=\"Convert this dataframe to an interactive table.\"\n",
              "              style=\"display:none;\">\n",
              "        \n",
              "  <svg xmlns=\"http://www.w3.org/2000/svg\" height=\"24px\"viewBox=\"0 0 24 24\"\n",
              "       width=\"24px\">\n",
              "    <path d=\"M0 0h24v24H0V0z\" fill=\"none\"/>\n",
              "    <path d=\"M18.56 5.44l.94 2.06.94-2.06 2.06-.94-2.06-.94-.94-2.06-.94 2.06-2.06.94zm-11 1L8.5 8.5l.94-2.06 2.06-.94-2.06-.94L8.5 2.5l-.94 2.06-2.06.94zm10 10l.94 2.06.94-2.06 2.06-.94-2.06-.94-.94-2.06-.94 2.06-2.06.94z\"/><path d=\"M17.41 7.96l-1.37-1.37c-.4-.4-.92-.59-1.43-.59-.52 0-1.04.2-1.43.59L10.3 9.45l-7.72 7.72c-.78.78-.78 2.05 0 2.83L4 21.41c.39.39.9.59 1.41.59.51 0 1.02-.2 1.41-.59l7.78-7.78 2.81-2.81c.8-.78.8-2.07 0-2.86zM5.41 20L4 18.59l7.72-7.72 1.47 1.35L5.41 20z\"/>\n",
              "  </svg>\n",
              "      </button>\n",
              "      \n",
              "  <style>\n",
              "    .colab-df-container {\n",
              "      display:flex;\n",
              "      flex-wrap:wrap;\n",
              "      gap: 12px;\n",
              "    }\n",
              "\n",
              "    .colab-df-convert {\n",
              "      background-color: #E8F0FE;\n",
              "      border: none;\n",
              "      border-radius: 50%;\n",
              "      cursor: pointer;\n",
              "      display: none;\n",
              "      fill: #1967D2;\n",
              "      height: 32px;\n",
              "      padding: 0 0 0 0;\n",
              "      width: 32px;\n",
              "    }\n",
              "\n",
              "    .colab-df-convert:hover {\n",
              "      background-color: #E2EBFA;\n",
              "      box-shadow: 0px 1px 2px rgba(60, 64, 67, 0.3), 0px 1px 3px 1px rgba(60, 64, 67, 0.15);\n",
              "      fill: #174EA6;\n",
              "    }\n",
              "\n",
              "    [theme=dark] .colab-df-convert {\n",
              "      background-color: #3B4455;\n",
              "      fill: #D2E3FC;\n",
              "    }\n",
              "\n",
              "    [theme=dark] .colab-df-convert:hover {\n",
              "      background-color: #434B5C;\n",
              "      box-shadow: 0px 1px 3px 1px rgba(0, 0, 0, 0.15);\n",
              "      filter: drop-shadow(0px 1px 2px rgba(0, 0, 0, 0.3));\n",
              "      fill: #FFFFFF;\n",
              "    }\n",
              "  </style>\n",
              "\n",
              "      <script>\n",
              "        const buttonEl =\n",
              "          document.querySelector('#df-8c8b7a2f-03cb-4d13-808f-1d5b8e514b43 button.colab-df-convert');\n",
              "        buttonEl.style.display =\n",
              "          google.colab.kernel.accessAllowed ? 'block' : 'none';\n",
              "\n",
              "        async function convertToInteractive(key) {\n",
              "          const element = document.querySelector('#df-8c8b7a2f-03cb-4d13-808f-1d5b8e514b43');\n",
              "          const dataTable =\n",
              "            await google.colab.kernel.invokeFunction('convertToInteractive',\n",
              "                                                     [key], {});\n",
              "          if (!dataTable) return;\n",
              "\n",
              "          const docLinkHtml = 'Like what you see? Visit the ' +\n",
              "            '<a target=\"_blank\" href=https://colab.research.google.com/notebooks/data_table.ipynb>data table notebook</a>'\n",
              "            + ' to learn more about interactive tables.';\n",
              "          element.innerHTML = '';\n",
              "          dataTable['output_type'] = 'display_data';\n",
              "          await google.colab.output.renderOutput(dataTable, element);\n",
              "          const docLink = document.createElement('div');\n",
              "          docLink.innerHTML = docLinkHtml;\n",
              "          element.appendChild(docLink);\n",
              "        }\n",
              "      </script>\n",
              "    </div>\n",
              "  </div>\n",
              "  "
            ]
          },
          "metadata": {},
          "execution_count": 236
        }
      ]
    },
    {
      "cell_type": "code",
      "source": [
        "df.info()"
      ],
      "metadata": {
        "colab": {
          "base_uri": "https://localhost:8080/"
        },
        "id": "hw0REV9BxFkL",
        "outputId": "11e07edf-6909-4d11-ceba-1569164a1407"
      },
      "execution_count": 237,
      "outputs": [
        {
          "output_type": "stream",
          "name": "stdout",
          "text": [
            "<class 'pandas.core.frame.DataFrame'>\n",
            "RangeIndex: 720 entries, 0 to 719\n",
            "Data columns (total 15 columns):\n",
            " #   Column        Non-Null Count  Dtype  \n",
            "---  ------        --------------  -----  \n",
            " 0   Product       720 non-null    object \n",
            " 1   Rating        581 non-null    float64\n",
            " 2   MRP           720 non-null    float64\n",
            " 3   Feature       720 non-null    object \n",
            " 4   Processor     720 non-null    object \n",
            " 5   RAM           720 non-null    int64  \n",
            " 6   OS            720 non-null    object \n",
            " 7   Storage       720 non-null    object \n",
            " 8   Brand         720 non-null    object \n",
            " 9   Display       720 non-null    object \n",
            " 10  Touchscreen   720 non-null    object \n",
            " 11  SSD           720 non-null    int64  \n",
            " 12  HDD           720 non-null    int64  \n",
            " 13  EMMC          720 non-null    int64  \n",
            " 14  Display_size  720 non-null    float64\n",
            "dtypes: float64(3), int64(4), object(8)\n",
            "memory usage: 84.5+ KB\n"
          ]
        }
      ]
    },
    {
      "cell_type": "code",
      "source": [
        "df.describe()"
      ],
      "metadata": {
        "colab": {
          "base_uri": "https://localhost:8080/",
          "height": 300
        },
        "id": "7MXxGmY_xK6a",
        "outputId": "b45fbba8-0ea7-4401-8fe1-0392cbe2032a"
      },
      "execution_count": 238,
      "outputs": [
        {
          "output_type": "execute_result",
          "data": {
            "text/plain": [
              "           Rating            MRP         RAM          SSD          HDD  \\\n",
              "count  581.000000     720.000000  720.000000   720.000000   720.000000   \n",
              "mean     4.321170   81605.837500   11.283333   577.844444    65.633333   \n",
              "std      0.282872   61552.955102    5.201663   313.667202   247.277153   \n",
              "min      3.000000   14990.000000    4.000000     0.000000     0.000000   \n",
              "25%      4.200000   38996.750000    8.000000   512.000000     0.000000   \n",
              "50%      4.300000   59990.000000    8.000000   512.000000     0.000000   \n",
              "75%      4.500000   95240.000000   16.000000  1000.000000     0.000000   \n",
              "max      5.000000  434830.000000   32.000000  2000.000000  1000.000000   \n",
              "\n",
              "             EMMC  Display_size  \n",
              "count  720.000000    720.000000  \n",
              "mean     1.022222     15.183000  \n",
              "std      9.264439      0.891272  \n",
              "min      0.000000     11.600000  \n",
              "25%      0.000000     14.175000  \n",
              "50%      0.000000     15.600000  \n",
              "75%      0.000000     15.600000  \n",
              "max    128.000000     17.300000  "
            ],
            "text/html": [
              "\n",
              "  <div id=\"df-8867c304-d89b-41fc-be79-bbcf46f521b4\">\n",
              "    <div class=\"colab-df-container\">\n",
              "      <div>\n",
              "<style scoped>\n",
              "    .dataframe tbody tr th:only-of-type {\n",
              "        vertical-align: middle;\n",
              "    }\n",
              "\n",
              "    .dataframe tbody tr th {\n",
              "        vertical-align: top;\n",
              "    }\n",
              "\n",
              "    .dataframe thead th {\n",
              "        text-align: right;\n",
              "    }\n",
              "</style>\n",
              "<table border=\"1\" class=\"dataframe\">\n",
              "  <thead>\n",
              "    <tr style=\"text-align: right;\">\n",
              "      <th></th>\n",
              "      <th>Rating</th>\n",
              "      <th>MRP</th>\n",
              "      <th>RAM</th>\n",
              "      <th>SSD</th>\n",
              "      <th>HDD</th>\n",
              "      <th>EMMC</th>\n",
              "      <th>Display_size</th>\n",
              "    </tr>\n",
              "  </thead>\n",
              "  <tbody>\n",
              "    <tr>\n",
              "      <th>count</th>\n",
              "      <td>581.000000</td>\n",
              "      <td>720.000000</td>\n",
              "      <td>720.000000</td>\n",
              "      <td>720.000000</td>\n",
              "      <td>720.000000</td>\n",
              "      <td>720.000000</td>\n",
              "      <td>720.000000</td>\n",
              "    </tr>\n",
              "    <tr>\n",
              "      <th>mean</th>\n",
              "      <td>4.321170</td>\n",
              "      <td>81605.837500</td>\n",
              "      <td>11.283333</td>\n",
              "      <td>577.844444</td>\n",
              "      <td>65.633333</td>\n",
              "      <td>1.022222</td>\n",
              "      <td>15.183000</td>\n",
              "    </tr>\n",
              "    <tr>\n",
              "      <th>std</th>\n",
              "      <td>0.282872</td>\n",
              "      <td>61552.955102</td>\n",
              "      <td>5.201663</td>\n",
              "      <td>313.667202</td>\n",
              "      <td>247.277153</td>\n",
              "      <td>9.264439</td>\n",
              "      <td>0.891272</td>\n",
              "    </tr>\n",
              "    <tr>\n",
              "      <th>min</th>\n",
              "      <td>3.000000</td>\n",
              "      <td>14990.000000</td>\n",
              "      <td>4.000000</td>\n",
              "      <td>0.000000</td>\n",
              "      <td>0.000000</td>\n",
              "      <td>0.000000</td>\n",
              "      <td>11.600000</td>\n",
              "    </tr>\n",
              "    <tr>\n",
              "      <th>25%</th>\n",
              "      <td>4.200000</td>\n",
              "      <td>38996.750000</td>\n",
              "      <td>8.000000</td>\n",
              "      <td>512.000000</td>\n",
              "      <td>0.000000</td>\n",
              "      <td>0.000000</td>\n",
              "      <td>14.175000</td>\n",
              "    </tr>\n",
              "    <tr>\n",
              "      <th>50%</th>\n",
              "      <td>4.300000</td>\n",
              "      <td>59990.000000</td>\n",
              "      <td>8.000000</td>\n",
              "      <td>512.000000</td>\n",
              "      <td>0.000000</td>\n",
              "      <td>0.000000</td>\n",
              "      <td>15.600000</td>\n",
              "    </tr>\n",
              "    <tr>\n",
              "      <th>75%</th>\n",
              "      <td>4.500000</td>\n",
              "      <td>95240.000000</td>\n",
              "      <td>16.000000</td>\n",
              "      <td>1000.000000</td>\n",
              "      <td>0.000000</td>\n",
              "      <td>0.000000</td>\n",
              "      <td>15.600000</td>\n",
              "    </tr>\n",
              "    <tr>\n",
              "      <th>max</th>\n",
              "      <td>5.000000</td>\n",
              "      <td>434830.000000</td>\n",
              "      <td>32.000000</td>\n",
              "      <td>2000.000000</td>\n",
              "      <td>1000.000000</td>\n",
              "      <td>128.000000</td>\n",
              "      <td>17.300000</td>\n",
              "    </tr>\n",
              "  </tbody>\n",
              "</table>\n",
              "</div>\n",
              "      <button class=\"colab-df-convert\" onclick=\"convertToInteractive('df-8867c304-d89b-41fc-be79-bbcf46f521b4')\"\n",
              "              title=\"Convert this dataframe to an interactive table.\"\n",
              "              style=\"display:none;\">\n",
              "        \n",
              "  <svg xmlns=\"http://www.w3.org/2000/svg\" height=\"24px\"viewBox=\"0 0 24 24\"\n",
              "       width=\"24px\">\n",
              "    <path d=\"M0 0h24v24H0V0z\" fill=\"none\"/>\n",
              "    <path d=\"M18.56 5.44l.94 2.06.94-2.06 2.06-.94-2.06-.94-.94-2.06-.94 2.06-2.06.94zm-11 1L8.5 8.5l.94-2.06 2.06-.94-2.06-.94L8.5 2.5l-.94 2.06-2.06.94zm10 10l.94 2.06.94-2.06 2.06-.94-2.06-.94-.94-2.06-.94 2.06-2.06.94z\"/><path d=\"M17.41 7.96l-1.37-1.37c-.4-.4-.92-.59-1.43-.59-.52 0-1.04.2-1.43.59L10.3 9.45l-7.72 7.72c-.78.78-.78 2.05 0 2.83L4 21.41c.39.39.9.59 1.41.59.51 0 1.02-.2 1.41-.59l7.78-7.78 2.81-2.81c.8-.78.8-2.07 0-2.86zM5.41 20L4 18.59l7.72-7.72 1.47 1.35L5.41 20z\"/>\n",
              "  </svg>\n",
              "      </button>\n",
              "      \n",
              "  <style>\n",
              "    .colab-df-container {\n",
              "      display:flex;\n",
              "      flex-wrap:wrap;\n",
              "      gap: 12px;\n",
              "    }\n",
              "\n",
              "    .colab-df-convert {\n",
              "      background-color: #E8F0FE;\n",
              "      border: none;\n",
              "      border-radius: 50%;\n",
              "      cursor: pointer;\n",
              "      display: none;\n",
              "      fill: #1967D2;\n",
              "      height: 32px;\n",
              "      padding: 0 0 0 0;\n",
              "      width: 32px;\n",
              "    }\n",
              "\n",
              "    .colab-df-convert:hover {\n",
              "      background-color: #E2EBFA;\n",
              "      box-shadow: 0px 1px 2px rgba(60, 64, 67, 0.3), 0px 1px 3px 1px rgba(60, 64, 67, 0.15);\n",
              "      fill: #174EA6;\n",
              "    }\n",
              "\n",
              "    [theme=dark] .colab-df-convert {\n",
              "      background-color: #3B4455;\n",
              "      fill: #D2E3FC;\n",
              "    }\n",
              "\n",
              "    [theme=dark] .colab-df-convert:hover {\n",
              "      background-color: #434B5C;\n",
              "      box-shadow: 0px 1px 3px 1px rgba(0, 0, 0, 0.15);\n",
              "      filter: drop-shadow(0px 1px 2px rgba(0, 0, 0, 0.3));\n",
              "      fill: #FFFFFF;\n",
              "    }\n",
              "  </style>\n",
              "\n",
              "      <script>\n",
              "        const buttonEl =\n",
              "          document.querySelector('#df-8867c304-d89b-41fc-be79-bbcf46f521b4 button.colab-df-convert');\n",
              "        buttonEl.style.display =\n",
              "          google.colab.kernel.accessAllowed ? 'block' : 'none';\n",
              "\n",
              "        async function convertToInteractive(key) {\n",
              "          const element = document.querySelector('#df-8867c304-d89b-41fc-be79-bbcf46f521b4');\n",
              "          const dataTable =\n",
              "            await google.colab.kernel.invokeFunction('convertToInteractive',\n",
              "                                                     [key], {});\n",
              "          if (!dataTable) return;\n",
              "\n",
              "          const docLinkHtml = 'Like what you see? Visit the ' +\n",
              "            '<a target=\"_blank\" href=https://colab.research.google.com/notebooks/data_table.ipynb>data table notebook</a>'\n",
              "            + ' to learn more about interactive tables.';\n",
              "          element.innerHTML = '';\n",
              "          dataTable['output_type'] = 'display_data';\n",
              "          await google.colab.output.renderOutput(dataTable, element);\n",
              "          const docLink = document.createElement('div');\n",
              "          docLink.innerHTML = docLinkHtml;\n",
              "          element.appendChild(docLink);\n",
              "        }\n",
              "      </script>\n",
              "    </div>\n",
              "  </div>\n",
              "  "
            ]
          },
          "metadata": {},
          "execution_count": 238
        }
      ]
    },
    {
      "cell_type": "markdown",
      "source": [
        "## ***5. Feature Engineering & Data Pre-processing***"
      ],
      "metadata": {
        "id": "yLjJCtPM0KBk"
      }
    },
    {
      "cell_type": "code",
      "source": [
        "data = df.copy()"
      ],
      "metadata": {
        "id": "jM1kBWol7k9Y"
      },
      "execution_count": 239,
      "outputs": []
    },
    {
      "cell_type": "markdown",
      "source": [
        "### Unwanted Features"
      ],
      "metadata": {
        "id": "xiyOF9F70UgQ"
      }
    },
    {
      "cell_type": "code",
      "source": [
        "#Removing Unwanted Features\n",
        "data = data.drop(['Product','Rating','Feature','Brand','Storage','Display'], axis =1)\n",
        "data.head()"
      ],
      "metadata": {
        "id": "iRsAHk1K0fpS",
        "colab": {
          "base_uri": "https://localhost:8080/",
          "height": 206
        },
        "outputId": "f397c328-eac2-4b18-87b4-cc5cfea1d166"
      },
      "execution_count": 240,
      "outputs": [
        {
          "output_type": "execute_result",
          "data": {
            "text/plain": [
              "       MRP                        Processor  RAM  \\\n",
              "0  36990.0          Intel Core i3 Processor    8   \n",
              "1  39990.0          Intel Core i3 Processor    8   \n",
              "2  32990.0          Intel Core i3 Processor    8   \n",
              "3  49990.0  AMD Ryzen 5 Hexa Core Processor    8   \n",
              "4  49990.0          Intel Core i5 Processor    8   \n",
              "\n",
              "                                   OS Touchscreen  SSD  HDD  EMMC  \\\n",
              "0  64 bit Windows 11 Operating System          No  256    0     0   \n",
              "1  64 bit Windows 11 Operating System          No  512    0     0   \n",
              "2  64 bit Windows 11 Operating System          No  512    0     0   \n",
              "3  64 bit Windows 10 Operating System          No  512    0     0   \n",
              "4  64 bit Windows 11 Operating System          No  512    0     0   \n",
              "\n",
              "   Display_size  \n",
              "0          14.0  \n",
              "1          15.6  \n",
              "2          15.6  \n",
              "3          15.6  \n",
              "4          15.6  "
            ],
            "text/html": [
              "\n",
              "  <div id=\"df-fb9c442a-9f81-47d6-8314-5401ce887d0d\">\n",
              "    <div class=\"colab-df-container\">\n",
              "      <div>\n",
              "<style scoped>\n",
              "    .dataframe tbody tr th:only-of-type {\n",
              "        vertical-align: middle;\n",
              "    }\n",
              "\n",
              "    .dataframe tbody tr th {\n",
              "        vertical-align: top;\n",
              "    }\n",
              "\n",
              "    .dataframe thead th {\n",
              "        text-align: right;\n",
              "    }\n",
              "</style>\n",
              "<table border=\"1\" class=\"dataframe\">\n",
              "  <thead>\n",
              "    <tr style=\"text-align: right;\">\n",
              "      <th></th>\n",
              "      <th>MRP</th>\n",
              "      <th>Processor</th>\n",
              "      <th>RAM</th>\n",
              "      <th>OS</th>\n",
              "      <th>Touchscreen</th>\n",
              "      <th>SSD</th>\n",
              "      <th>HDD</th>\n",
              "      <th>EMMC</th>\n",
              "      <th>Display_size</th>\n",
              "    </tr>\n",
              "  </thead>\n",
              "  <tbody>\n",
              "    <tr>\n",
              "      <th>0</th>\n",
              "      <td>36990.0</td>\n",
              "      <td>Intel Core i3 Processor</td>\n",
              "      <td>8</td>\n",
              "      <td>64 bit Windows 11 Operating System</td>\n",
              "      <td>No</td>\n",
              "      <td>256</td>\n",
              "      <td>0</td>\n",
              "      <td>0</td>\n",
              "      <td>14.0</td>\n",
              "    </tr>\n",
              "    <tr>\n",
              "      <th>1</th>\n",
              "      <td>39990.0</td>\n",
              "      <td>Intel Core i3 Processor</td>\n",
              "      <td>8</td>\n",
              "      <td>64 bit Windows 11 Operating System</td>\n",
              "      <td>No</td>\n",
              "      <td>512</td>\n",
              "      <td>0</td>\n",
              "      <td>0</td>\n",
              "      <td>15.6</td>\n",
              "    </tr>\n",
              "    <tr>\n",
              "      <th>2</th>\n",
              "      <td>32990.0</td>\n",
              "      <td>Intel Core i3 Processor</td>\n",
              "      <td>8</td>\n",
              "      <td>64 bit Windows 11 Operating System</td>\n",
              "      <td>No</td>\n",
              "      <td>512</td>\n",
              "      <td>0</td>\n",
              "      <td>0</td>\n",
              "      <td>15.6</td>\n",
              "    </tr>\n",
              "    <tr>\n",
              "      <th>3</th>\n",
              "      <td>49990.0</td>\n",
              "      <td>AMD Ryzen 5 Hexa Core Processor</td>\n",
              "      <td>8</td>\n",
              "      <td>64 bit Windows 10 Operating System</td>\n",
              "      <td>No</td>\n",
              "      <td>512</td>\n",
              "      <td>0</td>\n",
              "      <td>0</td>\n",
              "      <td>15.6</td>\n",
              "    </tr>\n",
              "    <tr>\n",
              "      <th>4</th>\n",
              "      <td>49990.0</td>\n",
              "      <td>Intel Core i5 Processor</td>\n",
              "      <td>8</td>\n",
              "      <td>64 bit Windows 11 Operating System</td>\n",
              "      <td>No</td>\n",
              "      <td>512</td>\n",
              "      <td>0</td>\n",
              "      <td>0</td>\n",
              "      <td>15.6</td>\n",
              "    </tr>\n",
              "  </tbody>\n",
              "</table>\n",
              "</div>\n",
              "      <button class=\"colab-df-convert\" onclick=\"convertToInteractive('df-fb9c442a-9f81-47d6-8314-5401ce887d0d')\"\n",
              "              title=\"Convert this dataframe to an interactive table.\"\n",
              "              style=\"display:none;\">\n",
              "        \n",
              "  <svg xmlns=\"http://www.w3.org/2000/svg\" height=\"24px\"viewBox=\"0 0 24 24\"\n",
              "       width=\"24px\">\n",
              "    <path d=\"M0 0h24v24H0V0z\" fill=\"none\"/>\n",
              "    <path d=\"M18.56 5.44l.94 2.06.94-2.06 2.06-.94-2.06-.94-.94-2.06-.94 2.06-2.06.94zm-11 1L8.5 8.5l.94-2.06 2.06-.94-2.06-.94L8.5 2.5l-.94 2.06-2.06.94zm10 10l.94 2.06.94-2.06 2.06-.94-2.06-.94-.94-2.06-.94 2.06-2.06.94z\"/><path d=\"M17.41 7.96l-1.37-1.37c-.4-.4-.92-.59-1.43-.59-.52 0-1.04.2-1.43.59L10.3 9.45l-7.72 7.72c-.78.78-.78 2.05 0 2.83L4 21.41c.39.39.9.59 1.41.59.51 0 1.02-.2 1.41-.59l7.78-7.78 2.81-2.81c.8-.78.8-2.07 0-2.86zM5.41 20L4 18.59l7.72-7.72 1.47 1.35L5.41 20z\"/>\n",
              "  </svg>\n",
              "      </button>\n",
              "      \n",
              "  <style>\n",
              "    .colab-df-container {\n",
              "      display:flex;\n",
              "      flex-wrap:wrap;\n",
              "      gap: 12px;\n",
              "    }\n",
              "\n",
              "    .colab-df-convert {\n",
              "      background-color: #E8F0FE;\n",
              "      border: none;\n",
              "      border-radius: 50%;\n",
              "      cursor: pointer;\n",
              "      display: none;\n",
              "      fill: #1967D2;\n",
              "      height: 32px;\n",
              "      padding: 0 0 0 0;\n",
              "      width: 32px;\n",
              "    }\n",
              "\n",
              "    .colab-df-convert:hover {\n",
              "      background-color: #E2EBFA;\n",
              "      box-shadow: 0px 1px 2px rgba(60, 64, 67, 0.3), 0px 1px 3px 1px rgba(60, 64, 67, 0.15);\n",
              "      fill: #174EA6;\n",
              "    }\n",
              "\n",
              "    [theme=dark] .colab-df-convert {\n",
              "      background-color: #3B4455;\n",
              "      fill: #D2E3FC;\n",
              "    }\n",
              "\n",
              "    [theme=dark] .colab-df-convert:hover {\n",
              "      background-color: #434B5C;\n",
              "      box-shadow: 0px 1px 3px 1px rgba(0, 0, 0, 0.15);\n",
              "      filter: drop-shadow(0px 1px 2px rgba(0, 0, 0, 0.3));\n",
              "      fill: #FFFFFF;\n",
              "    }\n",
              "  </style>\n",
              "\n",
              "      <script>\n",
              "        const buttonEl =\n",
              "          document.querySelector('#df-fb9c442a-9f81-47d6-8314-5401ce887d0d button.colab-df-convert');\n",
              "        buttonEl.style.display =\n",
              "          google.colab.kernel.accessAllowed ? 'block' : 'none';\n",
              "\n",
              "        async function convertToInteractive(key) {\n",
              "          const element = document.querySelector('#df-fb9c442a-9f81-47d6-8314-5401ce887d0d');\n",
              "          const dataTable =\n",
              "            await google.colab.kernel.invokeFunction('convertToInteractive',\n",
              "                                                     [key], {});\n",
              "          if (!dataTable) return;\n",
              "\n",
              "          const docLinkHtml = 'Like what you see? Visit the ' +\n",
              "            '<a target=\"_blank\" href=https://colab.research.google.com/notebooks/data_table.ipynb>data table notebook</a>'\n",
              "            + ' to learn more about interactive tables.';\n",
              "          element.innerHTML = '';\n",
              "          dataTable['output_type'] = 'display_data';\n",
              "          await google.colab.output.renderOutput(dataTable, element);\n",
              "          const docLink = document.createElement('div');\n",
              "          docLink.innerHTML = docLinkHtml;\n",
              "          element.appendChild(docLink);\n",
              "        }\n",
              "      </script>\n",
              "    </div>\n",
              "  </div>\n",
              "  "
            ]
          },
          "metadata": {},
          "execution_count": 240
        }
      ]
    },
    {
      "cell_type": "markdown",
      "source": [
        "1. I removed Product and Feature variable as it contains the information in textual format which we already extracted out in different variables.\n",
        "2. I removed Rating as it will come after the purchansing on laptop and hence it will not affect the price of the product.\n",
        "3. I removed the brand as we have to predict the price based on the feature of the laptop to enter the market accordinglt."
      ],
      "metadata": {
        "id": "_k5OiXlR9fEq"
      }
    },
    {
      "cell_type": "code",
      "source": [
        "data['Touchscreen'] = data['Touchscreen'].map({'Yes':1,'No':0})"
      ],
      "metadata": {
        "id": "J7C3E9guP-XP"
      },
      "execution_count": 241,
      "outputs": []
    },
    {
      "cell_type": "code",
      "source": [
        "data.info()"
      ],
      "metadata": {
        "id": "7SA4xTpoQQ2j",
        "colab": {
          "base_uri": "https://localhost:8080/"
        },
        "outputId": "47e437b1-6b30-4716-cb73-4da0967a5518"
      },
      "execution_count": 242,
      "outputs": [
        {
          "output_type": "stream",
          "name": "stdout",
          "text": [
            "<class 'pandas.core.frame.DataFrame'>\n",
            "RangeIndex: 720 entries, 0 to 719\n",
            "Data columns (total 9 columns):\n",
            " #   Column        Non-Null Count  Dtype  \n",
            "---  ------        --------------  -----  \n",
            " 0   MRP           720 non-null    float64\n",
            " 1   Processor     720 non-null    object \n",
            " 2   RAM           720 non-null    int64  \n",
            " 3   OS            720 non-null    object \n",
            " 4   Touchscreen   720 non-null    int64  \n",
            " 5   SSD           720 non-null    int64  \n",
            " 6   HDD           720 non-null    int64  \n",
            " 7   EMMC          720 non-null    int64  \n",
            " 8   Display_size  720 non-null    float64\n",
            "dtypes: float64(2), int64(5), object(2)\n",
            "memory usage: 50.8+ KB\n"
          ]
        }
      ]
    },
    {
      "cell_type": "markdown",
      "source": [
        "Correlation"
      ],
      "metadata": {
        "id": "XWBVyVuENblC"
      }
    },
    {
      "cell_type": "code",
      "source": [
        "plt.figure(figsize=(7,7))\n",
        "plt.title('Correlation Analysis')\n",
        "correlation = data.corr()\n",
        "sns.heatmap(abs(correlation), annot=True, cmap='coolwarm')"
      ],
      "metadata": {
        "id": "Wcr-gwYLNbL8",
        "colab": {
          "base_uri": "https://localhost:8080/",
          "height": 710
        },
        "outputId": "4deeb8bc-4e24-4d1f-fa8d-99f56fc4c28d"
      },
      "execution_count": 243,
      "outputs": [
        {
          "output_type": "execute_result",
          "data": {
            "text/plain": [
              "<Axes: title={'center': 'Correlation Analysis'}>"
            ]
          },
          "metadata": {},
          "execution_count": 243
        },
        {
          "output_type": "display_data",
          "data": {
            "text/plain": [
              "<Figure size 700x700 with 2 Axes>"
            ],
            "image/png": "[encoded data removed]"
          },
          "metadata": {}
        }
      ]
    },
    {
      "cell_type": "markdown",
      "source": [
        "###  Data Transformation"
      ],
      "metadata": {
        "id": "TNVZ9zx19K6k"
      }
    },
    {
      "cell_type": "code",
      "source": [
        "dataset = data.copy()"
      ],
      "metadata": {
        "id": "hbrnIV4uoNZl"
      },
      "execution_count": 244,
      "outputs": []
    },
    {
      "cell_type": "code",
      "source": [
        "dataset['MRP']= np.log10(dataset['MRP'])\n",
        "sns.distplot(dataset['MRP'])"
      ],
      "metadata": {
        "id": "8Qvwxx0acQos",
        "colab": {
          "base_uri": "https://localhost:8080/",
          "height": 657
        },
        "outputId": "a31913d0-966a-4472-af1e-2646f01d1d08"
      },
      "execution_count": 245,
      "outputs": [
        {
          "output_type": "stream",
          "name": "stderr",
          "text": [
            "<ipython-input-245-2ee62e1a8f82>:2: UserWarning: \n",
            "\n",
            "`distplot` is a deprecated function and will be removed in seaborn v0.14.0.\n",
            "\n",
            "Please adapt your code to use either `displot` (a figure-level function with\n",
            "similar flexibility) or `histplot` (an axes-level function for histograms).\n",
            "\n",
            "For a guide to updating your code to use the new functions, please see\n",
            "https://gist.github.com/mwaskom/de44147ed2974457ad6372750bbe5751\n",
            "\n",
            "  sns.distplot(dataset['MRP'])\n"
          ]
        },
        {
          "output_type": "execute_result",
          "data": {
            "text/plain": [
              "<Axes: xlabel='MRP', ylabel='Density'>"
            ]
          },
          "metadata": {},
          "execution_count": 245
        },
        {
          "output_type": "display_data",
          "data": {
            "text/plain": [
              "<Figure size 640x480 with 1 Axes>"
            ],
            "image/png": "[encoded data removed]"
          },
          "metadata": {}
        }
      ]
    },
    {
      "cell_type": "code",
      "source": [
        "dataset['MRP'].describe()"
      ],
      "metadata": {
        "colab": {
          "base_uri": "https://localhost:8080/"
        },
        "id": "p_Sks51VNh-z",
        "outputId": "0d9541f4-0db6-4fa3-a8f5-371186f84a0a"
      },
      "execution_count": 246,
      "outputs": [
        {
          "output_type": "execute_result",
          "data": {
            "text/plain": [
              "count    720.000000\n",
              "mean       4.816344\n",
              "std        0.275053\n",
              "min        4.175802\n",
              "25%        4.591028\n",
              "50%        4.778079\n",
              "75%        4.978815\n",
              "max        5.638319\n",
              "Name: MRP, dtype: float64"
            ]
          },
          "metadata": {},
          "execution_count": 246
        }
      ]
    },
    {
      "cell_type": "code",
      "source": [
        "dataset.head()"
      ],
      "metadata": {
        "colab": {
          "base_uri": "https://localhost:8080/",
          "height": 206
        },
        "id": "iqt2GGeaLzIT",
        "outputId": "22a27267-731a-4ca4-d367-6c89ea84cf3d"
      },
      "execution_count": 247,
      "outputs": [
        {
          "output_type": "execute_result",
          "data": {
            "text/plain": [
              "        MRP                        Processor  RAM  \\\n",
              "0  4.568084          Intel Core i3 Processor    8   \n",
              "1  4.601951          Intel Core i3 Processor    8   \n",
              "2  4.518382          Intel Core i3 Processor    8   \n",
              "3  4.698883  AMD Ryzen 5 Hexa Core Processor    8   \n",
              "4  4.698883          Intel Core i5 Processor    8   \n",
              "\n",
              "                                   OS  Touchscreen  SSD  HDD  EMMC  \\\n",
              "0  64 bit Windows 11 Operating System            0  256    0     0   \n",
              "1  64 bit Windows 11 Operating System            0  512    0     0   \n",
              "2  64 bit Windows 11 Operating System            0  512    0     0   \n",
              "3  64 bit Windows 10 Operating System            0  512    0     0   \n",
              "4  64 bit Windows 11 Operating System            0  512    0     0   \n",
              "\n",
              "   Display_size  \n",
              "0          14.0  \n",
              "1          15.6  \n",
              "2          15.6  \n",
              "3          15.6  \n",
              "4          15.6  "
            ],
            "text/html": [
              "\n",
              "  <div id=\"df-2ebefc78-1e63-4a50-bb03-b972b5345c46\">\n",
              "    <div class=\"colab-df-container\">\n",
              "      <div>\n",
              "<style scoped>\n",
              "    .dataframe tbody tr th:only-of-type {\n",
              "        vertical-align: middle;\n",
              "    }\n",
              "\n",
              "    .dataframe tbody tr th {\n",
              "        vertical-align: top;\n",
              "    }\n",
              "\n",
              "    .dataframe thead th {\n",
              "        text-align: right;\n",
              "    }\n",
              "</style>\n",
              "<table border=\"1\" class=\"dataframe\">\n",
              "  <thead>\n",
              "    <tr style=\"text-align: right;\">\n",
              "      <th></th>\n",
              "      <th>MRP</th>\n",
              "      <th>Processor</th>\n",
              "      <th>RAM</th>\n",
              "      <th>OS</th>\n",
              "      <th>Touchscreen</th>\n",
              "      <th>SSD</th>\n",
              "      <th>HDD</th>\n",
              "      <th>EMMC</th>\n",
              "      <th>Display_size</th>\n",
              "    </tr>\n",
              "  </thead>\n",
              "  <tbody>\n",
              "    <tr>\n",
              "      <th>0</th>\n",
              "      <td>4.568084</td>\n",
              "      <td>Intel Core i3 Processor</td>\n",
              "      <td>8</td>\n",
              "      <td>64 bit Windows 11 Operating System</td>\n",
              "      <td>0</td>\n",
              "      <td>256</td>\n",
              "      <td>0</td>\n",
              "      <td>0</td>\n",
              "      <td>14.0</td>\n",
              "    </tr>\n",
              "    <tr>\n",
              "      <th>1</th>\n",
              "      <td>4.601951</td>\n",
              "      <td>Intel Core i3 Processor</td>\n",
              "      <td>8</td>\n",
              "      <td>64 bit Windows 11 Operating System</td>\n",
              "      <td>0</td>\n",
              "      <td>512</td>\n",
              "      <td>0</td>\n",
              "      <td>0</td>\n",
              "      <td>15.6</td>\n",
              "    </tr>\n",
              "    <tr>\n",
              "      <th>2</th>\n",
              "      <td>4.518382</td>\n",
              "      <td>Intel Core i3 Processor</td>\n",
              "      <td>8</td>\n",
              "      <td>64 bit Windows 11 Operating System</td>\n",
              "      <td>0</td>\n",
              "      <td>512</td>\n",
              "      <td>0</td>\n",
              "      <td>0</td>\n",
              "      <td>15.6</td>\n",
              "    </tr>\n",
              "    <tr>\n",
              "      <th>3</th>\n",
              "      <td>4.698883</td>\n",
              "      <td>AMD Ryzen 5 Hexa Core Processor</td>\n",
              "      <td>8</td>\n",
              "      <td>64 bit Windows 10 Operating System</td>\n",
              "      <td>0</td>\n",
              "      <td>512</td>\n",
              "      <td>0</td>\n",
              "      <td>0</td>\n",
              "      <td>15.6</td>\n",
              "    </tr>\n",
              "    <tr>\n",
              "      <th>4</th>\n",
              "      <td>4.698883</td>\n",
              "      <td>Intel Core i5 Processor</td>\n",
              "      <td>8</td>\n",
              "      <td>64 bit Windows 11 Operating System</td>\n",
              "      <td>0</td>\n",
              "      <td>512</td>\n",
              "      <td>0</td>\n",
              "      <td>0</td>\n",
              "      <td>15.6</td>\n",
              "    </tr>\n",
              "  </tbody>\n",
              "</table>\n",
              "</div>\n",
              "      <button class=\"colab-df-convert\" onclick=\"convertToInteractive('df-2ebefc78-1e63-4a50-bb03-b972b5345c46')\"\n",
              "              title=\"Convert this dataframe to an interactive table.\"\n",
              "              style=\"display:none;\">\n",
              "        \n",
              "  <svg xmlns=\"http://www.w3.org/2000/svg\" height=\"24px\"viewBox=\"0 0 24 24\"\n",
              "       width=\"24px\">\n",
              "    <path d=\"M0 0h24v24H0V0z\" fill=\"none\"/>\n",
              "    <path d=\"M18.56 5.44l.94 2.06.94-2.06 2.06-.94-2.06-.94-.94-2.06-.94 2.06-2.06.94zm-11 1L8.5 8.5l.94-2.06 2.06-.94-2.06-.94L8.5 2.5l-.94 2.06-2.06.94zm10 10l.94 2.06.94-2.06 2.06-.94-2.06-.94-.94-2.06-.94 2.06-2.06.94z\"/><path d=\"M17.41 7.96l-1.37-1.37c-.4-.4-.92-.59-1.43-.59-.52 0-1.04.2-1.43.59L10.3 9.45l-7.72 7.72c-.78.78-.78 2.05 0 2.83L4 21.41c.39.39.9.59 1.41.59.51 0 1.02-.2 1.41-.59l7.78-7.78 2.81-2.81c.8-.78.8-2.07 0-2.86zM5.41 20L4 18.59l7.72-7.72 1.47 1.35L5.41 20z\"/>\n",
              "  </svg>\n",
              "      </button>\n",
              "      \n",
              "  <style>\n",
              "    .colab-df-container {\n",
              "      display:flex;\n",
              "      flex-wrap:wrap;\n",
              "      gap: 12px;\n",
              "    }\n",
              "\n",
              "    .colab-df-convert {\n",
              "      background-color: #E8F0FE;\n",
              "      border: none;\n",
              "      border-radius: 50%;\n",
              "      cursor: pointer;\n",
              "      display: none;\n",
              "      fill: #1967D2;\n",
              "      height: 32px;\n",
              "      padding: 0 0 0 0;\n",
              "      width: 32px;\n",
              "    }\n",
              "\n",
              "    .colab-df-convert:hover {\n",
              "      background-color: #E2EBFA;\n",
              "      box-shadow: 0px 1px 2px rgba(60, 64, 67, 0.3), 0px 1px 3px 1px rgba(60, 64, 67, 0.15);\n",
              "      fill: #174EA6;\n",
              "    }\n",
              "\n",
              "    [theme=dark] .colab-df-convert {\n",
              "      background-color: #3B4455;\n",
              "      fill: #D2E3FC;\n",
              "    }\n",
              "\n",
              "    [theme=dark] .colab-df-convert:hover {\n",
              "      background-color: #434B5C;\n",
              "      box-shadow: 0px 1px 3px 1px rgba(0, 0, 0, 0.15);\n",
              "      filter: drop-shadow(0px 1px 2px rgba(0, 0, 0, 0.3));\n",
              "      fill: #FFFFFF;\n",
              "    }\n",
              "  </style>\n",
              "\n",
              "      <script>\n",
              "        const buttonEl =\n",
              "          document.querySelector('#df-2ebefc78-1e63-4a50-bb03-b972b5345c46 button.colab-df-convert');\n",
              "        buttonEl.style.display =\n",
              "          google.colab.kernel.accessAllowed ? 'block' : 'none';\n",
              "\n",
              "        async function convertToInteractive(key) {\n",
              "          const element = document.querySelector('#df-2ebefc78-1e63-4a50-bb03-b972b5345c46');\n",
              "          const dataTable =\n",
              "            await google.colab.kernel.invokeFunction('convertToInteractive',\n",
              "                                                     [key], {});\n",
              "          if (!dataTable) return;\n",
              "\n",
              "          const docLinkHtml = 'Like what you see? Visit the ' +\n",
              "            '<a target=\"_blank\" href=https://colab.research.google.com/notebooks/data_table.ipynb>data table notebook</a>'\n",
              "            + ' to learn more about interactive tables.';\n",
              "          element.innerHTML = '';\n",
              "          dataTable['output_type'] = 'display_data';\n",
              "          await google.colab.output.renderOutput(dataTable, element);\n",
              "          const docLink = document.createElement('div');\n",
              "          docLink.innerHTML = docLinkHtml;\n",
              "          element.appendChild(docLink);\n",
              "        }\n",
              "      </script>\n",
              "    </div>\n",
              "  </div>\n",
              "  "
            ]
          },
          "metadata": {},
          "execution_count": 247
        }
      ]
    },
    {
      "cell_type": "markdown",
      "source": [
        "### Data Splitting"
      ],
      "metadata": {
        "id": "BhH2vgX9EjGr"
      }
    },
    {
      "cell_type": "code",
      "source": [
        "X = dataset.drop(columns=['MRP'])\n",
        "y = dataset['MRP']"
      ],
      "metadata": {
        "id": "2mMlQ5B6fypS"
      },
      "execution_count": 248,
      "outputs": []
    },
    {
      "cell_type": "code",
      "source": [
        "# Split your data to train and test. Choose Splitting ratio wisely.\n",
        "X_train, X_test, y_train, y_test = train_test_split(X,y,test_size=0.20,random_state=2)"
      ],
      "metadata": {
        "id": "0CTyd2UwEyNM"
      },
      "execution_count": 249,
      "outputs": []
    },
    {
      "cell_type": "code",
      "source": [
        "X"
      ],
      "metadata": {
        "colab": {
          "base_uri": "https://localhost:8080/",
          "height": 424
        },
        "id": "etso_0uNFqKY",
        "outputId": "f984b407-e412-4491-ceaf-4479f0f596cf"
      },
      "execution_count": 250,
      "outputs": [
        {
          "output_type": "execute_result",
          "data": {
            "text/plain": [
              "                           Processor  RAM                                  OS  \\\n",
              "0            Intel Core i3 Processor    8  64 bit Windows 11 Operating System   \n",
              "1            Intel Core i3 Processor    8  64 bit Windows 11 Operating System   \n",
              "2            Intel Core i3 Processor    8  64 bit Windows 11 Operating System   \n",
              "3    AMD Ryzen 5 Hexa Core Processor    8  64 bit Windows 10 Operating System   \n",
              "4            Intel Core i5 Processor    8  64 bit Windows 11 Operating System   \n",
              "..                               ...  ...                                 ...   \n",
              "715            Intel Other Processor    4             Chrome Operating System   \n",
              "716  AMD Ryzen 7 Octa Core Processor    8  64 bit Windows 11 Operating System   \n",
              "717  AMD Ryzen 9 Octa Core Processor   16  64 bit Windows 11 Operating System   \n",
              "718          Intel Core i7 Processor   16  64 bit Windows 11 Operating System   \n",
              "719          Intel Core i5 Processor    8  64 bit Windows 10 Operating System   \n",
              "\n",
              "     Touchscreen   SSD   HDD  EMMC  Display_size  \n",
              "0              0   256     0     0          14.0  \n",
              "1              0   512     0     0          15.6  \n",
              "2              0   512     0     0          15.6  \n",
              "3              0   512     0     0          15.6  \n",
              "4              0   512     0     0          15.6  \n",
              "..           ...   ...   ...   ...           ...  \n",
              "715            1     0     0    64          11.6  \n",
              "716            0   512     0     0          15.6  \n",
              "717            0  1000     0     0          15.6  \n",
              "718            1   512     0     0          14.0  \n",
              "719            0   256  1000     0          15.6  \n",
              "\n",
              "[720 rows x 8 columns]"
            ],
            "text/html": [
              "\n",
              "  <div id=\"df-2d4aa30a-d96e-4554-86f1-f6643e08d07e\">\n",
              "    <div class=\"colab-df-container\">\n",
              "      <div>\n",
              "<style scoped>\n",
              "    .dataframe tbody tr th:only-of-type {\n",
              "        vertical-align: middle;\n",
              "    }\n",
              "\n",
              "    .dataframe tbody tr th {\n",
              "        vertical-align: top;\n",
              "    }\n",
              "\n",
              "    .dataframe thead th {\n",
              "        text-align: right;\n",
              "    }\n",
              "</style>\n",
              "<table border=\"1\" class=\"dataframe\">\n",
              "  <thead>\n",
              "    <tr style=\"text-align: right;\">\n",
              "      <th></th>\n",
              "      <th>Processor</th>\n",
              "      <th>RAM</th>\n",
              "      <th>OS</th>\n",
              "      <th>Touchscreen</th>\n",
              "      <th>SSD</th>\n",
              "      <th>HDD</th>\n",
              "      <th>EMMC</th>\n",
              "      <th>Display_size</th>\n",
              "    </tr>\n",
              "  </thead>\n",
              "  <tbody>\n",
              "    <tr>\n",
              "      <th>0</th>\n",
              "      <td>Intel Core i3 Processor</td>\n",
              "      <td>8</td>\n",
              "      <td>64 bit Windows 11 Operating System</td>\n",
              "      <td>0</td>\n",
              "      <td>256</td>\n",
              "      <td>0</td>\n",
              "      <td>0</td>\n",
              "      <td>14.0</td>\n",
              "    </tr>\n",
              "    <tr>\n",
              "      <th>1</th>\n",
              "      <td>Intel Core i3 Processor</td>\n",
              "      <td>8</td>\n",
              "      <td>64 bit Windows 11 Operating System</td>\n",
              "      <td>0</td>\n",
              "      <td>512</td>\n",
              "      <td>0</td>\n",
              "      <td>0</td>\n",
              "      <td>15.6</td>\n",
              "    </tr>\n",
              "    <tr>\n",
              "      <th>2</th>\n",
              "      <td>Intel Core i3 Processor</td>\n",
              "      <td>8</td>\n",
              "      <td>64 bit Windows 11 Operating System</td>\n",
              "      <td>0</td>\n",
              "      <td>512</td>\n",
              "      <td>0</td>\n",
              "      <td>0</td>\n",
              "      <td>15.6</td>\n",
              "    </tr>\n",
              "    <tr>\n",
              "      <th>3</th>\n",
              "      <td>AMD Ryzen 5 Hexa Core Processor</td>\n",
              "      <td>8</td>\n",
              "      <td>64 bit Windows 10 Operating System</td>\n",
              "      <td>0</td>\n",
              "      <td>512</td>\n",
              "      <td>0</td>\n",
              "      <td>0</td>\n",
              "      <td>15.6</td>\n",
              "    </tr>\n",
              "    <tr>\n",
              "      <th>4</th>\n",
              "      <td>Intel Core i5 Processor</td>\n",
              "      <td>8</td>\n",
              "      <td>64 bit Windows 11 Operating System</td>\n",
              "      <td>0</td>\n",
              "      <td>512</td>\n",
              "      <td>0</td>\n",
              "      <td>0</td>\n",
              "      <td>15.6</td>\n",
              "    </tr>\n",
              "    <tr>\n",
              "      <th>...</th>\n",
              "      <td>...</td>\n",
              "      <td>...</td>\n",
              "      <td>...</td>\n",
              "      <td>...</td>\n",
              "      <td>...</td>\n",
              "      <td>...</td>\n",
              "      <td>...</td>\n",
              "      <td>...</td>\n",
              "    </tr>\n",
              "    <tr>\n",
              "      <th>715</th>\n",
              "      <td>Intel Other Processor</td>\n",
              "      <td>4</td>\n",
              "      <td>Chrome Operating System</td>\n",
              "      <td>1</td>\n",
              "      <td>0</td>\n",
              "      <td>0</td>\n",
              "      <td>64</td>\n",
              "      <td>11.6</td>\n",
              "    </tr>\n",
              "    <tr>\n",
              "      <th>716</th>\n",
              "      <td>AMD Ryzen 7 Octa Core Processor</td>\n",
              "      <td>8</td>\n",
              "      <td>64 bit Windows 11 Operating System</td>\n",
              "      <td>0</td>\n",
              "      <td>512</td>\n",
              "      <td>0</td>\n",
              "      <td>0</td>\n",
              "      <td>15.6</td>\n",
              "    </tr>\n",
              "    <tr>\n",
              "      <th>717</th>\n",
              "      <td>AMD Ryzen 9 Octa Core Processor</td>\n",
              "      <td>16</td>\n",
              "      <td>64 bit Windows 11 Operating System</td>\n",
              "      <td>0</td>\n",
              "      <td>1000</td>\n",
              "      <td>0</td>\n",
              "      <td>0</td>\n",
              "      <td>15.6</td>\n",
              "    </tr>\n",
              "    <tr>\n",
              "      <th>718</th>\n",
              "      <td>Intel Core i7 Processor</td>\n",
              "      <td>16</td>\n",
              "      <td>64 bit Windows 11 Operating System</td>\n",
              "      <td>1</td>\n",
              "      <td>512</td>\n",
              "      <td>0</td>\n",
              "      <td>0</td>\n",
              "      <td>14.0</td>\n",
              "    </tr>\n",
              "    <tr>\n",
              "      <th>719</th>\n",
              "      <td>Intel Core i5 Processor</td>\n",
              "      <td>8</td>\n",
              "      <td>64 bit Windows 10 Operating System</td>\n",
              "      <td>0</td>\n",
              "      <td>256</td>\n",
              "      <td>1000</td>\n",
              "      <td>0</td>\n",
              "      <td>15.6</td>\n",
              "    </tr>\n",
              "  </tbody>\n",
              "</table>\n",
              "<p>720 rows × 8 columns</p>\n",
              "</div>\n",
              "      <button class=\"colab-df-convert\" onclick=\"convertToInteractive('df-2d4aa30a-d96e-4554-86f1-f6643e08d07e')\"\n",
              "              title=\"Convert this dataframe to an interactive table.\"\n",
              "              style=\"display:none;\">\n",
              "        \n",
              "  <svg xmlns=\"http://www.w3.org/2000/svg\" height=\"24px\"viewBox=\"0 0 24 24\"\n",
              "       width=\"24px\">\n",
              "    <path d=\"M0 0h24v24H0V0z\" fill=\"none\"/>\n",
              "    <path d=\"M18.56 5.44l.94 2.06.94-2.06 2.06-.94-2.06-.94-.94-2.06-.94 2.06-2.06.94zm-11 1L8.5 8.5l.94-2.06 2.06-.94-2.06-.94L8.5 2.5l-.94 2.06-2.06.94zm10 10l.94 2.06.94-2.06 2.06-.94-2.06-.94-.94-2.06-.94 2.06-2.06.94z\"/><path d=\"M17.41 7.96l-1.37-1.37c-.4-.4-.92-.59-1.43-.59-.52 0-1.04.2-1.43.59L10.3 9.45l-7.72 7.72c-.78.78-.78 2.05 0 2.83L4 21.41c.39.39.9.59 1.41.59.51 0 1.02-.2 1.41-.59l7.78-7.78 2.81-2.81c.8-.78.8-2.07 0-2.86zM5.41 20L4 18.59l7.72-7.72 1.47 1.35L5.41 20z\"/>\n",
              "  </svg>\n",
              "      </button>\n",
              "      \n",
              "  <style>\n",
              "    .colab-df-container {\n",
              "      display:flex;\n",
              "      flex-wrap:wrap;\n",
              "      gap: 12px;\n",
              "    }\n",
              "\n",
              "    .colab-df-convert {\n",
              "      background-color: #E8F0FE;\n",
              "      border: none;\n",
              "      border-radius: 50%;\n",
              "      cursor: pointer;\n",
              "      display: none;\n",
              "      fill: #1967D2;\n",
              "      height: 32px;\n",
              "      padding: 0 0 0 0;\n",
              "      width: 32px;\n",
              "    }\n",
              "\n",
              "    .colab-df-convert:hover {\n",
              "      background-color: #E2EBFA;\n",
              "      box-shadow: 0px 1px 2px rgba(60, 64, 67, 0.3), 0px 1px 3px 1px rgba(60, 64, 67, 0.15);\n",
              "      fill: #174EA6;\n",
              "    }\n",
              "\n",
              "    [theme=dark] .colab-df-convert {\n",
              "      background-color: #3B4455;\n",
              "      fill: #D2E3FC;\n",
              "    }\n",
              "\n",
              "    [theme=dark] .colab-df-convert:hover {\n",
              "      background-color: #434B5C;\n",
              "      box-shadow: 0px 1px 3px 1px rgba(0, 0, 0, 0.15);\n",
              "      filter: drop-shadow(0px 1px 2px rgba(0, 0, 0, 0.3));\n",
              "      fill: #FFFFFF;\n",
              "    }\n",
              "  </style>\n",
              "\n",
              "      <script>\n",
              "        const buttonEl =\n",
              "          document.querySelector('#df-2d4aa30a-d96e-4554-86f1-f6643e08d07e button.colab-df-convert');\n",
              "        buttonEl.style.display =\n",
              "          google.colab.kernel.accessAllowed ? 'block' : 'none';\n",
              "\n",
              "        async function convertToInteractive(key) {\n",
              "          const element = document.querySelector('#df-2d4aa30a-d96e-4554-86f1-f6643e08d07e');\n",
              "          const dataTable =\n",
              "            await google.colab.kernel.invokeFunction('convertToInteractive',\n",
              "                                                     [key], {});\n",
              "          if (!dataTable) return;\n",
              "\n",
              "          const docLinkHtml = 'Like what you see? Visit the ' +\n",
              "            '<a target=\"_blank\" href=https://colab.research.google.com/notebooks/data_table.ipynb>data table notebook</a>'\n",
              "            + ' to learn more about interactive tables.';\n",
              "          element.innerHTML = '';\n",
              "          dataTable['output_type'] = 'display_data';\n",
              "          await google.colab.output.renderOutput(dataTable, element);\n",
              "          const docLink = document.createElement('div');\n",
              "          docLink.innerHTML = docLinkHtml;\n",
              "          element.appendChild(docLink);\n",
              "        }\n",
              "      </script>\n",
              "    </div>\n",
              "  </div>\n",
              "  "
            ]
          },
          "metadata": {},
          "execution_count": 250
        }
      ]
    },
    {
      "cell_type": "code",
      "source": [
        "y"
      ],
      "metadata": {
        "colab": {
          "base_uri": "https://localhost:8080/"
        },
        "id": "Ti7kYdxtIGfy",
        "outputId": "ad47c568-9d98-45bb-eaf1-671e0a5d6e9d"
      },
      "execution_count": 251,
      "outputs": [
        {
          "output_type": "execute_result",
          "data": {
            "text/plain": [
              "0      4.568084\n",
              "1      4.601951\n",
              "2      4.518382\n",
              "3      4.698883\n",
              "4      4.698883\n",
              "         ...   \n",
              "715    4.370883\n",
              "716    4.866228\n",
              "717    5.290012\n",
              "718    5.100336\n",
              "719    4.707485\n",
              "Name: MRP, Length: 720, dtype: float64"
            ]
          },
          "metadata": {},
          "execution_count": 251
        }
      ]
    },
    {
      "cell_type": "markdown",
      "source": [
        "### ***6. ML Model Implementation***"
      ],
      "metadata": {
        "id": "VfCC591jGiD4"
      }
    },
    {
      "cell_type": "markdown",
      "source": [
        "###***Linear Regression***"
      ],
      "metadata": {
        "id": "EfLcQ7vWhQyM"
      }
    },
    {
      "cell_type": "code",
      "source": [
        "step1 = ColumnTransformer(transformers=[\n",
        "    ('col_tnf',OneHotEncoder(handle_unknown='ignore',sparse_output=False,drop='first'),[0,2])\n",
        "],remainder='passthrough')\n",
        "\n",
        "step2 = LinearRegression()\n",
        "\n",
        "pipe = Pipeline([\n",
        "    ('step1',step1),\n",
        "    ('step2',step2)\n",
        "])\n",
        "\n",
        "pipe.fit(X_train,y_train)\n",
        "\n",
        "y_pred = pipe.predict(X_test)\n",
        "\n",
        "print('R2 score',r2_score(y_test,y_pred))\n",
        "print('MAE',mean_absolute_error(y_test,y_pred))"
      ],
      "metadata": {
        "colab": {
          "base_uri": "https://localhost:8080/"
        },
        "id": "oBh7HxqShX3j",
        "outputId": "c7d60155-eb0e-4526-e704-a7466b69f463"
      },
      "execution_count": 252,
      "outputs": [
        {
          "output_type": "stream",
          "name": "stdout",
          "text": [
            "R2 score 0.9250740122087946\n",
            "MAE 0.05848306939888645\n"
          ]
        }
      ]
    },
    {
      "cell_type": "markdown",
      "source": [
        "***Lasso Regression***\n",
        "\n"
      ],
      "metadata": {
        "id": "AUmlftrouD_6"
      }
    },
    {
      "cell_type": "code",
      "source": [
        "step1 = ColumnTransformer(transformers=[\n",
        "    ('col_tnf',OneHotEncoder(handle_unknown='ignore',sparse_output=False,drop='first'),[0,2])\n",
        "],remainder='passthrough')\n",
        "\n",
        "step2 = Lasso(alpha=0.001)\n",
        "\n",
        "pipe = Pipeline([\n",
        "    ('step1',step1),\n",
        "    ('step2',step2)\n",
        "])\n",
        "\n",
        "pipe.fit(X_train,y_train)\n",
        "\n",
        "y_pred = pipe.predict(X_test)\n",
        "\n",
        "print('R2 score',r2_score(y_test,y_pred))\n",
        "print('MAE',mean_absolute_error(y_test,y_pred))"
      ],
      "metadata": {
        "colab": {
          "base_uri": "https://localhost:8080/"
        },
        "id": "nvmDVruVuHUz",
        "outputId": "4f6ab70a-acf2-4de1-9573-83283dfd8f39"
      },
      "execution_count": 253,
      "outputs": [
        {
          "output_type": "stream",
          "name": "stdout",
          "text": [
            "R2 score 0.9035522576940119\n",
            "MAE 0.06823167092437189\n"
          ]
        }
      ]
    },
    {
      "cell_type": "markdown",
      "source": [
        "***Ridge Regression***"
      ],
      "metadata": {
        "id": "90mhEMvtv-3s"
      }
    },
    {
      "cell_type": "code",
      "source": [
        "step1 = ColumnTransformer(transformers=[\n",
        "    ('col_tnf',OneHotEncoder(handle_unknown='ignore',sparse_output=False,drop='first'),[0,2])\n",
        "],remainder='passthrough')\n",
        "\n",
        "step2 = Ridge(alpha=0.1)\n",
        "\n",
        "pipe = Pipeline([\n",
        "    ('step1',step1),\n",
        "    ('step2',step2)\n",
        "])\n",
        "\n",
        "pipe.fit(X_train,y_train)\n",
        "\n",
        "y_pred = pipe.predict(X_test)\n",
        "\n",
        "print('R2 score',r2_score(y_test,y_pred))\n",
        "print('MAE',mean_absolute_error(y_test,y_pred))"
      ],
      "metadata": {
        "colab": {
          "base_uri": "https://localhost:8080/"
        },
        "id": "RaS6oAB0v9Pd",
        "outputId": "d772939c-283e-4eff-dde4-823bdc90c85e"
      },
      "execution_count": 254,
      "outputs": [
        {
          "output_type": "stream",
          "name": "stdout",
          "text": [
            "R2 score 0.9246692833219449\n",
            "MAE 0.05857874442419528\n"
          ]
        }
      ]
    },
    {
      "cell_type": "markdown",
      "source": [
        "***KNN***"
      ],
      "metadata": {
        "id": "9x5lxAJKz0Lw"
      }
    },
    {
      "cell_type": "code",
      "source": [
        "step1 = ColumnTransformer(transformers=[\n",
        "    ('col_tnf',OneHotEncoder(handle_unknown='ignore',sparse_output=False,drop='first'),[0,2])\n",
        "],remainder='passthrough')\n",
        "\n",
        "step2 = KNeighborsRegressor(n_neighbors=3)\n",
        "\n",
        "pipe = Pipeline([\n",
        "    ('step1',step1),\n",
        "    ('step2',step2)\n",
        "])\n",
        "\n",
        "pipe.fit(X_train,y_train)\n",
        "\n",
        "y_pred = pipe.predict(X_test)\n",
        "\n",
        "print('R2 score',r2_score(y_test,y_pred))\n",
        "print('MAE',mean_absolute_error(y_test,y_pred))"
      ],
      "metadata": {
        "colab": {
          "base_uri": "https://localhost:8080/"
        },
        "id": "Jh-SUXmIz2F5",
        "outputId": "53547927-b0da-4c35-fb8b-1f1414a23e83"
      },
      "execution_count": 255,
      "outputs": [
        {
          "output_type": "stream",
          "name": "stdout",
          "text": [
            "R2 score 0.888337795745015\n",
            "MAE 0.06483478771120177\n"
          ]
        }
      ]
    },
    {
      "cell_type": "markdown",
      "source": [
        "***Decision Tree***"
      ],
      "metadata": {
        "id": "Fp2KMss10jv7"
      }
    },
    {
      "cell_type": "code",
      "source": [
        "step1 = ColumnTransformer(transformers=[\n",
        "    ('col_tnf',OneHotEncoder(handle_unknown='ignore',sparse_output=False,drop='first'),[0,2])\n",
        "],remainder='passthrough')\n",
        "\n",
        "step2 = DecisionTreeRegressor(max_depth=8)\n",
        "\n",
        "pipe = Pipeline([\n",
        "    ('step1',step1),\n",
        "    ('step2',step2)\n",
        "])\n",
        "\n",
        "pipe.fit(X_train,y_train)\n",
        "\n",
        "y_pred = pipe.predict(X_test)\n",
        "\n",
        "print('R2 score',r2_score(y_test,y_pred))\n",
        "print('MAE',mean_absolute_error(y_test,y_pred))"
      ],
      "metadata": {
        "colab": {
          "base_uri": "https://localhost:8080/"
        },
        "id": "IRhNaqOWyknk",
        "outputId": "dffc59ec-2b2c-4f2e-c975-734dbc636b2e"
      },
      "execution_count": 256,
      "outputs": [
        {
          "output_type": "stream",
          "name": "stdout",
          "text": [
            "R2 score 0.8767838537172141\n",
            "MAE 0.06892220963272074\n"
          ]
        }
      ]
    },
    {
      "cell_type": "markdown",
      "source": [
        "***SVM***"
      ],
      "metadata": {
        "id": "0dkjPFM1095R"
      }
    },
    {
      "cell_type": "code",
      "source": [
        "step1 = ColumnTransformer(transformers=[\n",
        "    ('col_tnf',OneHotEncoder(handle_unknown='ignore',sparse_output=False,drop='first'),[0,2])\n",
        "],remainder='passthrough')\n",
        "\n",
        "step2 = SVR(kernel='rbf',C=10000,epsilon=0.1)\n",
        "\n",
        "pipe = Pipeline([\n",
        "    ('step1',step1),\n",
        "    ('step2',step2)\n",
        "])\n",
        "\n",
        "pipe.fit(X_train,y_train)\n",
        "\n",
        "y_pred = pipe.predict(X_test)\n",
        "\n",
        "print('R2 score',r2_score(y_test,y_pred))\n",
        "print('MAE',mean_absolute_error(y_test,y_pred))"
      ],
      "metadata": {
        "colab": {
          "base_uri": "https://localhost:8080/"
        },
        "id": "8TwZ1SHU04Yf",
        "outputId": "5b138491-381d-42fd-d853-dc44af9b47a2"
      },
      "execution_count": 257,
      "outputs": [
        {
          "output_type": "stream",
          "name": "stdout",
          "text": [
            "R2 score 0.8921086821434947\n",
            "MAE 0.073359044101377\n"
          ]
        }
      ]
    },
    {
      "cell_type": "markdown",
      "source": [
        "***Random Forest***"
      ],
      "metadata": {
        "id": "btR5j4fu1Wvk"
      }
    },
    {
      "cell_type": "code",
      "source": [
        "step1 = ColumnTransformer(transformers=[\n",
        "    ('col_tnf',OneHotEncoder(handle_unknown='ignore',sparse_output=False,drop='first'),[0,2])\n",
        "],remainder='passthrough')\n",
        "\n",
        "step2 = RandomForestRegressor(n_estimators=100,\n",
        "                              random_state=3,\n",
        "                              max_samples=0.5,\n",
        "                              max_features=0.75,\n",
        "                              max_depth=15)\n",
        "\n",
        "pipe = Pipeline([\n",
        "    ('step1',step1),\n",
        "    ('step2',step2)\n",
        "])\n",
        "\n",
        "pipe.fit(X_train,y_train)\n",
        "\n",
        "y_pred = pipe.predict(X_test)\n",
        "\n",
        "print('R2 score',r2_score(y_test,y_pred))\n",
        "print('MAE',mean_absolute_error(y_test,y_pred))"
      ],
      "metadata": {
        "colab": {
          "base_uri": "https://localhost:8080/"
        },
        "id": "se31_FfI1V68",
        "outputId": "a93b2137-2025-4443-b6af-27a9248ac2b2"
      },
      "execution_count": 258,
      "outputs": [
        {
          "output_type": "stream",
          "name": "stdout",
          "text": [
            "R2 score 0.9084073169237235\n",
            "MAE 0.06058572410280373\n"
          ]
        }
      ]
    },
    {
      "cell_type": "markdown",
      "source": [
        "Exporting the Model"
      ],
      "metadata": {
        "id": "AyDuQ4z1AMTl"
      }
    },
    {
      "cell_type": "code",
      "source": [
        "import pickle\n",
        "\n",
        "dataset['MRP'] = (np.exp(dataset['MRP']))\n",
        "dataset.to_csv(r'Processed_laptop_dataset.csv')\n",
        "pickle.dump(dataset,open('dataset.pkl','wb'))\n",
        "pickle.dump(pipe,open('pipe.pkl','wb'))"
      ],
      "metadata": {
        "id": "Hp_VBWXGAeiC"
      },
      "execution_count": 259,
      "outputs": []
    },
    {
      "cell_type": "markdown",
      "source": [
        "# **Conclusion**"
      ],
      "metadata": {
        "id": "gCX9965dhzqZ"
      }
    },
    {
      "cell_type": "markdown",
      "source": [
        "Linear Regression  and lasso gives the best R2 Score followed by Random Forest\n",
        "\n",
        "R2 score 0.9250740122087961\n",
        "\n",
        "MAE 0.05848306939888475"
      ],
      "metadata": {
        "id": "Fjb1IsQkh3yE"
      }
    }
  ]
}